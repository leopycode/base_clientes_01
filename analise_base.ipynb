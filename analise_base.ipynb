{
 "cells": [
  {
   "cell_type": "markdown",
   "metadata": {},
   "source": [
    "# Projeto: Análise da Base de Clientes\n",
    "\n",
    "Projeto de análise de dados focado na base de clientes de uma dada empresa, com o objetivo de identificar padrões de comportamento e segmentar os clientes. Utilizando ferramentas da linguagem Python para gerar insights e assim otimizar estratégias de marketing e melhorar a experiência do cliente.\n",
    "\n",
    "OBS: O item 6 deste projeto exibe o Relatório Final da Análise."
   ]
  },
  {
   "cell_type": "markdown",
   "metadata": {},
   "source": [
    "### 1. Importando a base de dados:"
   ]
  },
  {
   "cell_type": "code",
   "execution_count": 1,
   "metadata": {},
   "outputs": [
    {
     "data": {
      "text/html": [
       "<div>\n",
       "<style scoped>\n",
       "    .dataframe tbody tr th:only-of-type {\n",
       "        vertical-align: middle;\n",
       "    }\n",
       "\n",
       "    .dataframe tbody tr th {\n",
       "        vertical-align: top;\n",
       "    }\n",
       "\n",
       "    .dataframe thead th {\n",
       "        text-align: right;\n",
       "    }\n",
       "</style>\n",
       "<table border=\"1\" class=\"dataframe\">\n",
       "  <thead>\n",
       "    <tr style=\"text-align: right;\">\n",
       "      <th></th>\n",
       "      <th>ID_Cliente</th>\n",
       "      <th>Nome</th>\n",
       "      <th>Sobrenome</th>\n",
       "      <th>Data_Nascimento</th>\n",
       "      <th>Estado_Civil</th>\n",
       "      <th>Sexo</th>\n",
       "      <th>Email</th>\n",
       "      <th>Telefone</th>\n",
       "      <th>Renda_Anual</th>\n",
       "      <th>Qtd_Filhos</th>\n",
       "      <th>Escolaridade</th>\n",
       "    </tr>\n",
       "  </thead>\n",
       "  <tbody>\n",
       "    <tr>\n",
       "      <th>0</th>\n",
       "      <td>1</td>\n",
       "      <td>Ruben</td>\n",
       "      <td>Torres</td>\n",
       "      <td>1985-08-07</td>\n",
       "      <td>C</td>\n",
       "      <td>M</td>\n",
       "      <td>ruben35@hotmail.com</td>\n",
       "      <td>(85) 94132-1176</td>\n",
       "      <td>60000</td>\n",
       "      <td>3</td>\n",
       "      <td>Pós-graduado</td>\n",
       "    </tr>\n",
       "    <tr>\n",
       "      <th>1</th>\n",
       "      <td>2</td>\n",
       "      <td>Christy</td>\n",
       "      <td>Zhu</td>\n",
       "      <td>1988-02-10</td>\n",
       "      <td>S</td>\n",
       "      <td>F</td>\n",
       "      <td>christy12@hotmail.com</td>\n",
       "      <td>(41) 96270-6086</td>\n",
       "      <td>70000</td>\n",
       "      <td>0</td>\n",
       "      <td>Pós-graduado</td>\n",
       "    </tr>\n",
       "    <tr>\n",
       "      <th>2</th>\n",
       "      <td>3</td>\n",
       "      <td>Elizabeth</td>\n",
       "      <td>Johnson</td>\n",
       "      <td>1988-08-03</td>\n",
       "      <td>S</td>\n",
       "      <td>F</td>\n",
       "      <td>elizabeth5@gmail.com</td>\n",
       "      <td>(31) 92039-5832</td>\n",
       "      <td>80000</td>\n",
       "      <td>5</td>\n",
       "      <td>Pós-graduado</td>\n",
       "    </tr>\n",
       "    <tr>\n",
       "      <th>3</th>\n",
       "      <td>4</td>\n",
       "      <td>Julio</td>\n",
       "      <td>Ruiz</td>\n",
       "      <td>1985-07-31</td>\n",
       "      <td>S</td>\n",
       "      <td>M</td>\n",
       "      <td>julio1@hotmail.com</td>\n",
       "      <td>(62) 93391-5891</td>\n",
       "      <td>70000</td>\n",
       "      <td>0</td>\n",
       "      <td>Pós-graduado</td>\n",
       "    </tr>\n",
       "    <tr>\n",
       "      <th>4</th>\n",
       "      <td>5</td>\n",
       "      <td>Janet</td>\n",
       "      <td>Alvarez</td>\n",
       "      <td>1985-12-01</td>\n",
       "      <td>S</td>\n",
       "      <td>F</td>\n",
       "      <td>janet9@gmail.com</td>\n",
       "      <td>(21) 93379-3743</td>\n",
       "      <td>70000</td>\n",
       "      <td>0</td>\n",
       "      <td>Pós-graduado</td>\n",
       "    </tr>\n",
       "    <tr>\n",
       "      <th>...</th>\n",
       "      <td>...</td>\n",
       "      <td>...</td>\n",
       "      <td>...</td>\n",
       "      <td>...</td>\n",
       "      <td>...</td>\n",
       "      <td>...</td>\n",
       "      <td>...</td>\n",
       "      <td>...</td>\n",
       "      <td>...</td>\n",
       "      <td>...</td>\n",
       "      <td>...</td>\n",
       "    </tr>\n",
       "    <tr>\n",
       "      <th>95</th>\n",
       "      <td>96</td>\n",
       "      <td>Mallory</td>\n",
       "      <td>Rubio</td>\n",
       "      <td>1981-04-26</td>\n",
       "      <td>S</td>\n",
       "      <td>F</td>\n",
       "      <td>mallory7@hotmail.com</td>\n",
       "      <td>(62) 93152-6617</td>\n",
       "      <td>60000</td>\n",
       "      <td>1</td>\n",
       "      <td>Parcial</td>\n",
       "    </tr>\n",
       "    <tr>\n",
       "      <th>96</th>\n",
       "      <td>97</td>\n",
       "      <td>Adam</td>\n",
       "      <td>Ross</td>\n",
       "      <td>1981-03-03</td>\n",
       "      <td>C</td>\n",
       "      <td>M</td>\n",
       "      <td>adam2@hotmail.com</td>\n",
       "      <td>(31) 96502-3482</td>\n",
       "      <td>60000</td>\n",
       "      <td>1</td>\n",
       "      <td>Pós-graduado</td>\n",
       "    </tr>\n",
       "    <tr>\n",
       "      <th>97</th>\n",
       "      <td>98</td>\n",
       "      <td>Latasha</td>\n",
       "      <td>Navarro</td>\n",
       "      <td>1980-09-10</td>\n",
       "      <td>S</td>\n",
       "      <td>F</td>\n",
       "      <td>latasha10@yahoo.com.br</td>\n",
       "      <td>NaN</td>\n",
       "      <td>60000</td>\n",
       "      <td>1</td>\n",
       "      <td>Parcial</td>\n",
       "    </tr>\n",
       "    <tr>\n",
       "      <th>98</th>\n",
       "      <td>99</td>\n",
       "      <td>Abby</td>\n",
       "      <td>Sai</td>\n",
       "      <td>1985-05-03</td>\n",
       "      <td>S</td>\n",
       "      <td>F</td>\n",
       "      <td>abby4@hotmail.com</td>\n",
       "      <td>(85) 98841-5381</td>\n",
       "      <td>70000</td>\n",
       "      <td>0</td>\n",
       "      <td>Pós-graduado</td>\n",
       "    </tr>\n",
       "    <tr>\n",
       "      <th>99</th>\n",
       "      <td>100</td>\n",
       "      <td>Julia</td>\n",
       "      <td>Nelson</td>\n",
       "      <td>1985-04-16</td>\n",
       "      <td>S</td>\n",
       "      <td>F</td>\n",
       "      <td>julia7@yahoo.com.br</td>\n",
       "      <td>(41) 96066-9929</td>\n",
       "      <td>80000</td>\n",
       "      <td>5</td>\n",
       "      <td>Pós-graduado</td>\n",
       "    </tr>\n",
       "  </tbody>\n",
       "</table>\n",
       "<p>100 rows × 11 columns</p>\n",
       "</div>"
      ],
      "text/plain": [
       "    ID_Cliente       Nome Sobrenome Data_Nascimento Estado_Civil Sexo  \\\n",
       "0            1      Ruben    Torres      1985-08-07            C    M   \n",
       "1            2    Christy       Zhu      1988-02-10            S    F   \n",
       "2            3  Elizabeth   Johnson      1988-08-03            S    F   \n",
       "3            4      Julio      Ruiz      1985-07-31            S    M   \n",
       "4            5      Janet   Alvarez      1985-12-01            S    F   \n",
       "..         ...        ...       ...             ...          ...  ...   \n",
       "95          96    Mallory     Rubio      1981-04-26            S    F   \n",
       "96          97       Adam      Ross      1981-03-03            C    M   \n",
       "97          98    Latasha   Navarro      1980-09-10            S    F   \n",
       "98          99       Abby       Sai      1985-05-03            S    F   \n",
       "99         100      Julia    Nelson      1985-04-16            S    F   \n",
       "\n",
       "                     Email         Telefone  Renda_Anual  Qtd_Filhos  \\\n",
       "0      ruben35@hotmail.com  (85) 94132-1176        60000           3   \n",
       "1    christy12@hotmail.com  (41) 96270-6086        70000           0   \n",
       "2     elizabeth5@gmail.com  (31) 92039-5832        80000           5   \n",
       "3       julio1@hotmail.com  (62) 93391-5891        70000           0   \n",
       "4         janet9@gmail.com  (21) 93379-3743        70000           0   \n",
       "..                     ...              ...          ...         ...   \n",
       "95    mallory7@hotmail.com  (62) 93152-6617        60000           1   \n",
       "96       adam2@hotmail.com  (31) 96502-3482        60000           1   \n",
       "97  latasha10@yahoo.com.br              NaN        60000           1   \n",
       "98       abby4@hotmail.com  (85) 98841-5381        70000           0   \n",
       "99     julia7@yahoo.com.br  (41) 96066-9929        80000           5   \n",
       "\n",
       "    Escolaridade  \n",
       "0   Pós-graduado  \n",
       "1   Pós-graduado  \n",
       "2   Pós-graduado  \n",
       "3   Pós-graduado  \n",
       "4   Pós-graduado  \n",
       "..           ...  \n",
       "95       Parcial  \n",
       "96  Pós-graduado  \n",
       "97       Parcial  \n",
       "98  Pós-graduado  \n",
       "99  Pós-graduado  \n",
       "\n",
       "[100 rows x 11 columns]"
      ]
     },
     "metadata": {},
     "output_type": "display_data"
    }
   ],
   "source": [
    "import pandas as pd \n",
    "\n",
    "base_clientes = pd.read_csv('base_clientes.csv')\n",
    "\n",
    "display(base_clientes)"
   ]
  },
  {
   "cell_type": "markdown",
   "metadata": {},
   "source": [
    "--- "
   ]
  },
  {
   "cell_type": "markdown",
   "metadata": {},
   "source": [
    "### 2. Verificando informações da base de dados:"
   ]
  },
  {
   "cell_type": "code",
   "execution_count": 2,
   "metadata": {},
   "outputs": [
    {
     "name": "stdout",
     "output_type": "stream",
     "text": [
      "A base de dados em análise possui 100 linhas e 11 colunas.\n"
     ]
    }
   ],
   "source": [
    "linhas, colunas = base_clientes.shape\n",
    "\n",
    "print(f'A base de dados em análise possui {linhas} linhas e {colunas} colunas.')"
   ]
  },
  {
   "cell_type": "code",
   "execution_count": 3,
   "metadata": {},
   "outputs": [
    {
     "name": "stdout",
     "output_type": "stream",
     "text": [
      "<class 'pandas.core.frame.DataFrame'>\n",
      "RangeIndex: 100 entries, 0 to 99\n",
      "Data columns (total 11 columns):\n",
      " #   Column           Non-Null Count  Dtype \n",
      "---  ------           --------------  ----- \n",
      " 0   ID_Cliente       100 non-null    int64 \n",
      " 1   Nome             100 non-null    object\n",
      " 2   Sobrenome        100 non-null    object\n",
      " 3   Data_Nascimento  100 non-null    object\n",
      " 4   Estado_Civil     100 non-null    object\n",
      " 5   Sexo             100 non-null    object\n",
      " 6   Email            100 non-null    object\n",
      " 7   Telefone         93 non-null     object\n",
      " 8   Renda_Anual      100 non-null    int64 \n",
      " 9   Qtd_Filhos       100 non-null    int64 \n",
      " 10  Escolaridade     100 non-null    object\n",
      "dtypes: int64(3), object(8)\n",
      "memory usage: 8.7+ KB\n"
     ]
    }
   ],
   "source": [
    "base_clientes.info()"
   ]
  },
  {
   "cell_type": "markdown",
   "metadata": {},
   "source": [
    "Observa-se que a base de dados em análise possui 100 linhas e 11 colunas. Além disso, dentre os 100 registros, no campo 'Telefone' há 7 valores nulos.\n",
    "\n",
    "Dada a natureza do campo, os valores nulos não comprometem a análise da base."
   ]
  },
  {
   "cell_type": "markdown",
   "metadata": {},
   "source": [
    "---"
   ]
  },
  {
   "cell_type": "markdown",
   "metadata": {},
   "source": [
    "### 3. Removendo e adicionando colunas:\n",
    "\n",
    "Na presente fase serão removidas as colunas 'Email' e 'Telefone', que não influenciarão a análise e será acrescentada uma nova coluna chamada 'Idade', que será úlil para fins estatísticos."
   ]
  },
  {
   "cell_type": "markdown",
   "metadata": {},
   "source": [
    "#### Excluindo colunas:"
   ]
  },
  {
   "cell_type": "code",
   "execution_count": 4,
   "metadata": {},
   "outputs": [
    {
     "data": {
      "text/html": [
       "<div>\n",
       "<style scoped>\n",
       "    .dataframe tbody tr th:only-of-type {\n",
       "        vertical-align: middle;\n",
       "    }\n",
       "\n",
       "    .dataframe tbody tr th {\n",
       "        vertical-align: top;\n",
       "    }\n",
       "\n",
       "    .dataframe thead th {\n",
       "        text-align: right;\n",
       "    }\n",
       "</style>\n",
       "<table border=\"1\" class=\"dataframe\">\n",
       "  <thead>\n",
       "    <tr style=\"text-align: right;\">\n",
       "      <th></th>\n",
       "      <th>ID_Cliente</th>\n",
       "      <th>Nome</th>\n",
       "      <th>Sobrenome</th>\n",
       "      <th>Data_Nascimento</th>\n",
       "      <th>Estado_Civil</th>\n",
       "      <th>Sexo</th>\n",
       "      <th>Renda_Anual</th>\n",
       "      <th>Qtd_Filhos</th>\n",
       "      <th>Escolaridade</th>\n",
       "    </tr>\n",
       "  </thead>\n",
       "  <tbody>\n",
       "    <tr>\n",
       "      <th>0</th>\n",
       "      <td>1</td>\n",
       "      <td>Ruben</td>\n",
       "      <td>Torres</td>\n",
       "      <td>1985-08-07</td>\n",
       "      <td>C</td>\n",
       "      <td>M</td>\n",
       "      <td>60000</td>\n",
       "      <td>3</td>\n",
       "      <td>Pós-graduado</td>\n",
       "    </tr>\n",
       "    <tr>\n",
       "      <th>1</th>\n",
       "      <td>2</td>\n",
       "      <td>Christy</td>\n",
       "      <td>Zhu</td>\n",
       "      <td>1988-02-10</td>\n",
       "      <td>S</td>\n",
       "      <td>F</td>\n",
       "      <td>70000</td>\n",
       "      <td>0</td>\n",
       "      <td>Pós-graduado</td>\n",
       "    </tr>\n",
       "    <tr>\n",
       "      <th>2</th>\n",
       "      <td>3</td>\n",
       "      <td>Elizabeth</td>\n",
       "      <td>Johnson</td>\n",
       "      <td>1988-08-03</td>\n",
       "      <td>S</td>\n",
       "      <td>F</td>\n",
       "      <td>80000</td>\n",
       "      <td>5</td>\n",
       "      <td>Pós-graduado</td>\n",
       "    </tr>\n",
       "    <tr>\n",
       "      <th>3</th>\n",
       "      <td>4</td>\n",
       "      <td>Julio</td>\n",
       "      <td>Ruiz</td>\n",
       "      <td>1985-07-31</td>\n",
       "      <td>S</td>\n",
       "      <td>M</td>\n",
       "      <td>70000</td>\n",
       "      <td>0</td>\n",
       "      <td>Pós-graduado</td>\n",
       "    </tr>\n",
       "    <tr>\n",
       "      <th>4</th>\n",
       "      <td>5</td>\n",
       "      <td>Janet</td>\n",
       "      <td>Alvarez</td>\n",
       "      <td>1985-12-01</td>\n",
       "      <td>S</td>\n",
       "      <td>F</td>\n",
       "      <td>70000</td>\n",
       "      <td>0</td>\n",
       "      <td>Pós-graduado</td>\n",
       "    </tr>\n",
       "    <tr>\n",
       "      <th>...</th>\n",
       "      <td>...</td>\n",
       "      <td>...</td>\n",
       "      <td>...</td>\n",
       "      <td>...</td>\n",
       "      <td>...</td>\n",
       "      <td>...</td>\n",
       "      <td>...</td>\n",
       "      <td>...</td>\n",
       "      <td>...</td>\n",
       "    </tr>\n",
       "    <tr>\n",
       "      <th>95</th>\n",
       "      <td>96</td>\n",
       "      <td>Mallory</td>\n",
       "      <td>Rubio</td>\n",
       "      <td>1981-04-26</td>\n",
       "      <td>S</td>\n",
       "      <td>F</td>\n",
       "      <td>60000</td>\n",
       "      <td>1</td>\n",
       "      <td>Parcial</td>\n",
       "    </tr>\n",
       "    <tr>\n",
       "      <th>96</th>\n",
       "      <td>97</td>\n",
       "      <td>Adam</td>\n",
       "      <td>Ross</td>\n",
       "      <td>1981-03-03</td>\n",
       "      <td>C</td>\n",
       "      <td>M</td>\n",
       "      <td>60000</td>\n",
       "      <td>1</td>\n",
       "      <td>Pós-graduado</td>\n",
       "    </tr>\n",
       "    <tr>\n",
       "      <th>97</th>\n",
       "      <td>98</td>\n",
       "      <td>Latasha</td>\n",
       "      <td>Navarro</td>\n",
       "      <td>1980-09-10</td>\n",
       "      <td>S</td>\n",
       "      <td>F</td>\n",
       "      <td>60000</td>\n",
       "      <td>1</td>\n",
       "      <td>Parcial</td>\n",
       "    </tr>\n",
       "    <tr>\n",
       "      <th>98</th>\n",
       "      <td>99</td>\n",
       "      <td>Abby</td>\n",
       "      <td>Sai</td>\n",
       "      <td>1985-05-03</td>\n",
       "      <td>S</td>\n",
       "      <td>F</td>\n",
       "      <td>70000</td>\n",
       "      <td>0</td>\n",
       "      <td>Pós-graduado</td>\n",
       "    </tr>\n",
       "    <tr>\n",
       "      <th>99</th>\n",
       "      <td>100</td>\n",
       "      <td>Julia</td>\n",
       "      <td>Nelson</td>\n",
       "      <td>1985-04-16</td>\n",
       "      <td>S</td>\n",
       "      <td>F</td>\n",
       "      <td>80000</td>\n",
       "      <td>5</td>\n",
       "      <td>Pós-graduado</td>\n",
       "    </tr>\n",
       "  </tbody>\n",
       "</table>\n",
       "<p>100 rows × 9 columns</p>\n",
       "</div>"
      ],
      "text/plain": [
       "    ID_Cliente       Nome Sobrenome Data_Nascimento Estado_Civil Sexo  \\\n",
       "0            1      Ruben    Torres      1985-08-07            C    M   \n",
       "1            2    Christy       Zhu      1988-02-10            S    F   \n",
       "2            3  Elizabeth   Johnson      1988-08-03            S    F   \n",
       "3            4      Julio      Ruiz      1985-07-31            S    M   \n",
       "4            5      Janet   Alvarez      1985-12-01            S    F   \n",
       "..         ...        ...       ...             ...          ...  ...   \n",
       "95          96    Mallory     Rubio      1981-04-26            S    F   \n",
       "96          97       Adam      Ross      1981-03-03            C    M   \n",
       "97          98    Latasha   Navarro      1980-09-10            S    F   \n",
       "98          99       Abby       Sai      1985-05-03            S    F   \n",
       "99         100      Julia    Nelson      1985-04-16            S    F   \n",
       "\n",
       "    Renda_Anual  Qtd_Filhos  Escolaridade  \n",
       "0         60000           3  Pós-graduado  \n",
       "1         70000           0  Pós-graduado  \n",
       "2         80000           5  Pós-graduado  \n",
       "3         70000           0  Pós-graduado  \n",
       "4         70000           0  Pós-graduado  \n",
       "..          ...         ...           ...  \n",
       "95        60000           1       Parcial  \n",
       "96        60000           1  Pós-graduado  \n",
       "97        60000           1       Parcial  \n",
       "98        70000           0  Pós-graduado  \n",
       "99        80000           5  Pós-graduado  \n",
       "\n",
       "[100 rows x 9 columns]"
      ]
     },
     "metadata": {},
     "output_type": "display_data"
    }
   ],
   "source": [
    "base = base_clientes.drop('Email', axis=1)\n",
    "base = base.drop('Telefone', axis=1)\n",
    "\n",
    "display(base)"
   ]
  },
  {
   "cell_type": "code",
   "execution_count": 5,
   "metadata": {},
   "outputs": [
    {
     "name": "stdout",
     "output_type": "stream",
     "text": [
      "<class 'pandas.core.frame.DataFrame'>\n",
      "RangeIndex: 100 entries, 0 to 99\n",
      "Data columns (total 9 columns):\n",
      " #   Column           Non-Null Count  Dtype         \n",
      "---  ------           --------------  -----         \n",
      " 0   ID_Cliente       100 non-null    int64         \n",
      " 1   Nome             100 non-null    object        \n",
      " 2   Sobrenome        100 non-null    object        \n",
      " 3   Data_Nascimento  100 non-null    datetime64[ns]\n",
      " 4   Estado_Civil     100 non-null    object        \n",
      " 5   Sexo             100 non-null    object        \n",
      " 6   Renda_Anual      100 non-null    int64         \n",
      " 7   Qtd_Filhos       100 non-null    int64         \n",
      " 8   Escolaridade     100 non-null    object        \n",
      "dtypes: datetime64[ns](1), int64(3), object(5)\n",
      "memory usage: 7.2+ KB\n"
     ]
    }
   ],
   "source": [
    "base['Data_Nascimento'] = pd.to_datetime(base['Data_Nascimento'])\n",
    "\n",
    "base.info()"
   ]
  },
  {
   "cell_type": "markdown",
   "metadata": {},
   "source": [
    "#### Criando a nova coluna [Idade]\n",
    "\n",
    "(*) Idade em anos completos."
   ]
  },
  {
   "cell_type": "code",
   "execution_count": 6,
   "metadata": {},
   "outputs": [
    {
     "name": "stdout",
     "output_type": "stream",
     "text": [
      "2024-08-21 00:00:00\n"
     ]
    }
   ],
   "source": [
    "from datetime import datetime\n",
    "\n",
    "hoje = datetime(2024, 8, 21)\n",
    "\n",
    "print(hoje)"
   ]
  },
  {
   "cell_type": "code",
   "execution_count": 7,
   "metadata": {},
   "outputs": [
    {
     "data": {
      "text/html": [
       "<div>\n",
       "<style scoped>\n",
       "    .dataframe tbody tr th:only-of-type {\n",
       "        vertical-align: middle;\n",
       "    }\n",
       "\n",
       "    .dataframe tbody tr th {\n",
       "        vertical-align: top;\n",
       "    }\n",
       "\n",
       "    .dataframe thead th {\n",
       "        text-align: right;\n",
       "    }\n",
       "</style>\n",
       "<table border=\"1\" class=\"dataframe\">\n",
       "  <thead>\n",
       "    <tr style=\"text-align: right;\">\n",
       "      <th></th>\n",
       "      <th>ID_Cliente</th>\n",
       "      <th>Nome</th>\n",
       "      <th>Sobrenome</th>\n",
       "      <th>Data_Nascimento</th>\n",
       "      <th>Estado_Civil</th>\n",
       "      <th>Sexo</th>\n",
       "      <th>Renda_Anual</th>\n",
       "      <th>Qtd_Filhos</th>\n",
       "      <th>Escolaridade</th>\n",
       "      <th>Idade</th>\n",
       "    </tr>\n",
       "  </thead>\n",
       "  <tbody>\n",
       "    <tr>\n",
       "      <th>0</th>\n",
       "      <td>1</td>\n",
       "      <td>Ruben</td>\n",
       "      <td>Torres</td>\n",
       "      <td>1985-08-07</td>\n",
       "      <td>C</td>\n",
       "      <td>M</td>\n",
       "      <td>60000</td>\n",
       "      <td>3</td>\n",
       "      <td>Pós-graduado</td>\n",
       "      <td>14259 days</td>\n",
       "    </tr>\n",
       "    <tr>\n",
       "      <th>1</th>\n",
       "      <td>2</td>\n",
       "      <td>Christy</td>\n",
       "      <td>Zhu</td>\n",
       "      <td>1988-02-10</td>\n",
       "      <td>S</td>\n",
       "      <td>F</td>\n",
       "      <td>70000</td>\n",
       "      <td>0</td>\n",
       "      <td>Pós-graduado</td>\n",
       "      <td>13342 days</td>\n",
       "    </tr>\n",
       "    <tr>\n",
       "      <th>2</th>\n",
       "      <td>3</td>\n",
       "      <td>Elizabeth</td>\n",
       "      <td>Johnson</td>\n",
       "      <td>1988-08-03</td>\n",
       "      <td>S</td>\n",
       "      <td>F</td>\n",
       "      <td>80000</td>\n",
       "      <td>5</td>\n",
       "      <td>Pós-graduado</td>\n",
       "      <td>13167 days</td>\n",
       "    </tr>\n",
       "    <tr>\n",
       "      <th>3</th>\n",
       "      <td>4</td>\n",
       "      <td>Julio</td>\n",
       "      <td>Ruiz</td>\n",
       "      <td>1985-07-31</td>\n",
       "      <td>S</td>\n",
       "      <td>M</td>\n",
       "      <td>70000</td>\n",
       "      <td>0</td>\n",
       "      <td>Pós-graduado</td>\n",
       "      <td>14266 days</td>\n",
       "    </tr>\n",
       "    <tr>\n",
       "      <th>4</th>\n",
       "      <td>5</td>\n",
       "      <td>Janet</td>\n",
       "      <td>Alvarez</td>\n",
       "      <td>1985-12-01</td>\n",
       "      <td>S</td>\n",
       "      <td>F</td>\n",
       "      <td>70000</td>\n",
       "      <td>0</td>\n",
       "      <td>Pós-graduado</td>\n",
       "      <td>14143 days</td>\n",
       "    </tr>\n",
       "  </tbody>\n",
       "</table>\n",
       "</div>"
      ],
      "text/plain": [
       "   ID_Cliente       Nome Sobrenome Data_Nascimento Estado_Civil Sexo  \\\n",
       "0           1      Ruben    Torres      1985-08-07            C    M   \n",
       "1           2    Christy       Zhu      1988-02-10            S    F   \n",
       "2           3  Elizabeth   Johnson      1988-08-03            S    F   \n",
       "3           4      Julio      Ruiz      1985-07-31            S    M   \n",
       "4           5      Janet   Alvarez      1985-12-01            S    F   \n",
       "\n",
       "   Renda_Anual  Qtd_Filhos  Escolaridade      Idade  \n",
       "0        60000           3  Pós-graduado 14259 days  \n",
       "1        70000           0  Pós-graduado 13342 days  \n",
       "2        80000           5  Pós-graduado 13167 days  \n",
       "3        70000           0  Pós-graduado 14266 days  \n",
       "4        70000           0  Pós-graduado 14143 days  "
      ]
     },
     "execution_count": 7,
     "metadata": {},
     "output_type": "execute_result"
    }
   ],
   "source": [
    "base['Idade'] = hoje - base['Data_Nascimento']\n",
    "\n",
    "base.head()"
   ]
  },
  {
   "cell_type": "code",
   "execution_count": 8,
   "metadata": {},
   "outputs": [
    {
     "data": {
      "text/html": [
       "<div>\n",
       "<style scoped>\n",
       "    .dataframe tbody tr th:only-of-type {\n",
       "        vertical-align: middle;\n",
       "    }\n",
       "\n",
       "    .dataframe tbody tr th {\n",
       "        vertical-align: top;\n",
       "    }\n",
       "\n",
       "    .dataframe thead th {\n",
       "        text-align: right;\n",
       "    }\n",
       "</style>\n",
       "<table border=\"1\" class=\"dataframe\">\n",
       "  <thead>\n",
       "    <tr style=\"text-align: right;\">\n",
       "      <th></th>\n",
       "      <th>ID_Cliente</th>\n",
       "      <th>Nome</th>\n",
       "      <th>Sobrenome</th>\n",
       "      <th>Data_Nascimento</th>\n",
       "      <th>Estado_Civil</th>\n",
       "      <th>Sexo</th>\n",
       "      <th>Renda_Anual</th>\n",
       "      <th>Qtd_Filhos</th>\n",
       "      <th>Escolaridade</th>\n",
       "      <th>Idade</th>\n",
       "    </tr>\n",
       "  </thead>\n",
       "  <tbody>\n",
       "    <tr>\n",
       "      <th>0</th>\n",
       "      <td>1</td>\n",
       "      <td>Ruben</td>\n",
       "      <td>Torres</td>\n",
       "      <td>1985-08-07</td>\n",
       "      <td>C</td>\n",
       "      <td>M</td>\n",
       "      <td>60000</td>\n",
       "      <td>3</td>\n",
       "      <td>Pós-graduado</td>\n",
       "      <td>39</td>\n",
       "    </tr>\n",
       "    <tr>\n",
       "      <th>1</th>\n",
       "      <td>2</td>\n",
       "      <td>Christy</td>\n",
       "      <td>Zhu</td>\n",
       "      <td>1988-02-10</td>\n",
       "      <td>S</td>\n",
       "      <td>F</td>\n",
       "      <td>70000</td>\n",
       "      <td>0</td>\n",
       "      <td>Pós-graduado</td>\n",
       "      <td>36</td>\n",
       "    </tr>\n",
       "    <tr>\n",
       "      <th>2</th>\n",
       "      <td>3</td>\n",
       "      <td>Elizabeth</td>\n",
       "      <td>Johnson</td>\n",
       "      <td>1988-08-03</td>\n",
       "      <td>S</td>\n",
       "      <td>F</td>\n",
       "      <td>80000</td>\n",
       "      <td>5</td>\n",
       "      <td>Pós-graduado</td>\n",
       "      <td>36</td>\n",
       "    </tr>\n",
       "    <tr>\n",
       "      <th>3</th>\n",
       "      <td>4</td>\n",
       "      <td>Julio</td>\n",
       "      <td>Ruiz</td>\n",
       "      <td>1985-07-31</td>\n",
       "      <td>S</td>\n",
       "      <td>M</td>\n",
       "      <td>70000</td>\n",
       "      <td>0</td>\n",
       "      <td>Pós-graduado</td>\n",
       "      <td>39</td>\n",
       "    </tr>\n",
       "    <tr>\n",
       "      <th>4</th>\n",
       "      <td>5</td>\n",
       "      <td>Janet</td>\n",
       "      <td>Alvarez</td>\n",
       "      <td>1985-12-01</td>\n",
       "      <td>S</td>\n",
       "      <td>F</td>\n",
       "      <td>70000</td>\n",
       "      <td>0</td>\n",
       "      <td>Pós-graduado</td>\n",
       "      <td>38</td>\n",
       "    </tr>\n",
       "  </tbody>\n",
       "</table>\n",
       "</div>"
      ],
      "text/plain": [
       "   ID_Cliente       Nome Sobrenome Data_Nascimento Estado_Civil Sexo  \\\n",
       "0           1      Ruben    Torres      1985-08-07            C    M   \n",
       "1           2    Christy       Zhu      1988-02-10            S    F   \n",
       "2           3  Elizabeth   Johnson      1988-08-03            S    F   \n",
       "3           4      Julio      Ruiz      1985-07-31            S    M   \n",
       "4           5      Janet   Alvarez      1985-12-01            S    F   \n",
       "\n",
       "   Renda_Anual  Qtd_Filhos  Escolaridade  Idade  \n",
       "0        60000           3  Pós-graduado     39  \n",
       "1        70000           0  Pós-graduado     36  \n",
       "2        80000           5  Pós-graduado     36  \n",
       "3        70000           0  Pós-graduado     39  \n",
       "4        70000           0  Pós-graduado     38  "
      ]
     },
     "execution_count": 8,
     "metadata": {},
     "output_type": "execute_result"
    }
   ],
   "source": [
    "base['Idade'] = base['Idade'].apply(lambda x: int((abs(x).days) / 365))\n",
    "\n",
    "base.head()"
   ]
  },
  {
   "cell_type": "code",
   "execution_count": 9,
   "metadata": {},
   "outputs": [
    {
     "name": "stdout",
     "output_type": "stream",
     "text": [
      "<class 'pandas.core.frame.DataFrame'>\n",
      "RangeIndex: 100 entries, 0 to 99\n",
      "Data columns (total 10 columns):\n",
      " #   Column           Non-Null Count  Dtype         \n",
      "---  ------           --------------  -----         \n",
      " 0   ID_Cliente       100 non-null    int64         \n",
      " 1   Nome             100 non-null    object        \n",
      " 2   Sobrenome        100 non-null    object        \n",
      " 3   Data_Nascimento  100 non-null    datetime64[ns]\n",
      " 4   Estado_Civil     100 non-null    object        \n",
      " 5   Sexo             100 non-null    object        \n",
      " 6   Renda_Anual      100 non-null    int64         \n",
      " 7   Qtd_Filhos       100 non-null    int64         \n",
      " 8   Escolaridade     100 non-null    object        \n",
      " 9   Idade            100 non-null    int64         \n",
      "dtypes: datetime64[ns](1), int64(4), object(5)\n",
      "memory usage: 7.9+ KB\n"
     ]
    }
   ],
   "source": [
    "base.info()"
   ]
  },
  {
   "cell_type": "markdown",
   "metadata": {},
   "source": [
    "---"
   ]
  },
  {
   "cell_type": "markdown",
   "metadata": {},
   "source": [
    "### 4. Transformando o conteúdo das colunas Estado_Civil e Sexo:"
   ]
  },
  {
   "cell_type": "markdown",
   "metadata": {},
   "source": [
    "##### a) Verificando dados únicos:"
   ]
  },
  {
   "cell_type": "code",
   "execution_count": 10,
   "metadata": {},
   "outputs": [
    {
     "data": {
      "text/plain": [
       "array(['C', 'S'], dtype=object)"
      ]
     },
     "execution_count": 10,
     "metadata": {},
     "output_type": "execute_result"
    }
   ],
   "source": [
    "base['Estado_Civil'].unique()"
   ]
  },
  {
   "cell_type": "code",
   "execution_count": 11,
   "metadata": {},
   "outputs": [
    {
     "data": {
      "text/plain": [
       "array(['M', 'F'], dtype=object)"
      ]
     },
     "execution_count": 11,
     "metadata": {},
     "output_type": "execute_result"
    }
   ],
   "source": [
    "base['Sexo'].unique()"
   ]
  },
  {
   "cell_type": "markdown",
   "metadata": {},
   "source": [
    "##### b) Tranformando Estado Civil para 'Casado(a)' ou 'Soleito(a)':"
   ]
  },
  {
   "cell_type": "code",
   "execution_count": 12,
   "metadata": {},
   "outputs": [
    {
     "data": {
      "text/html": [
       "<div>\n",
       "<style scoped>\n",
       "    .dataframe tbody tr th:only-of-type {\n",
       "        vertical-align: middle;\n",
       "    }\n",
       "\n",
       "    .dataframe tbody tr th {\n",
       "        vertical-align: top;\n",
       "    }\n",
       "\n",
       "    .dataframe thead th {\n",
       "        text-align: right;\n",
       "    }\n",
       "</style>\n",
       "<table border=\"1\" class=\"dataframe\">\n",
       "  <thead>\n",
       "    <tr style=\"text-align: right;\">\n",
       "      <th></th>\n",
       "      <th>ID_Cliente</th>\n",
       "      <th>Nome</th>\n",
       "      <th>Sobrenome</th>\n",
       "      <th>Data_Nascimento</th>\n",
       "      <th>Estado_Civil</th>\n",
       "      <th>Sexo</th>\n",
       "      <th>Renda_Anual</th>\n",
       "      <th>Qtd_Filhos</th>\n",
       "      <th>Escolaridade</th>\n",
       "      <th>Idade</th>\n",
       "    </tr>\n",
       "  </thead>\n",
       "  <tbody>\n",
       "    <tr>\n",
       "      <th>0</th>\n",
       "      <td>1</td>\n",
       "      <td>Ruben</td>\n",
       "      <td>Torres</td>\n",
       "      <td>1985-08-07</td>\n",
       "      <td>Casado(a)</td>\n",
       "      <td>M</td>\n",
       "      <td>60000</td>\n",
       "      <td>3</td>\n",
       "      <td>Pós-graduado</td>\n",
       "      <td>39</td>\n",
       "    </tr>\n",
       "    <tr>\n",
       "      <th>1</th>\n",
       "      <td>2</td>\n",
       "      <td>Christy</td>\n",
       "      <td>Zhu</td>\n",
       "      <td>1988-02-10</td>\n",
       "      <td>Solteiro(a)</td>\n",
       "      <td>F</td>\n",
       "      <td>70000</td>\n",
       "      <td>0</td>\n",
       "      <td>Pós-graduado</td>\n",
       "      <td>36</td>\n",
       "    </tr>\n",
       "    <tr>\n",
       "      <th>2</th>\n",
       "      <td>3</td>\n",
       "      <td>Elizabeth</td>\n",
       "      <td>Johnson</td>\n",
       "      <td>1988-08-03</td>\n",
       "      <td>Solteiro(a)</td>\n",
       "      <td>F</td>\n",
       "      <td>80000</td>\n",
       "      <td>5</td>\n",
       "      <td>Pós-graduado</td>\n",
       "      <td>36</td>\n",
       "    </tr>\n",
       "    <tr>\n",
       "      <th>3</th>\n",
       "      <td>4</td>\n",
       "      <td>Julio</td>\n",
       "      <td>Ruiz</td>\n",
       "      <td>1985-07-31</td>\n",
       "      <td>Solteiro(a)</td>\n",
       "      <td>M</td>\n",
       "      <td>70000</td>\n",
       "      <td>0</td>\n",
       "      <td>Pós-graduado</td>\n",
       "      <td>39</td>\n",
       "    </tr>\n",
       "    <tr>\n",
       "      <th>4</th>\n",
       "      <td>5</td>\n",
       "      <td>Janet</td>\n",
       "      <td>Alvarez</td>\n",
       "      <td>1985-12-01</td>\n",
       "      <td>Solteiro(a)</td>\n",
       "      <td>F</td>\n",
       "      <td>70000</td>\n",
       "      <td>0</td>\n",
       "      <td>Pós-graduado</td>\n",
       "      <td>38</td>\n",
       "    </tr>\n",
       "  </tbody>\n",
       "</table>\n",
       "</div>"
      ],
      "text/plain": [
       "   ID_Cliente       Nome Sobrenome Data_Nascimento Estado_Civil Sexo  \\\n",
       "0           1      Ruben    Torres      1985-08-07    Casado(a)    M   \n",
       "1           2    Christy       Zhu      1988-02-10  Solteiro(a)    F   \n",
       "2           3  Elizabeth   Johnson      1988-08-03  Solteiro(a)    F   \n",
       "3           4      Julio      Ruiz      1985-07-31  Solteiro(a)    M   \n",
       "4           5      Janet   Alvarez      1985-12-01  Solteiro(a)    F   \n",
       "\n",
       "   Renda_Anual  Qtd_Filhos  Escolaridade  Idade  \n",
       "0        60000           3  Pós-graduado     39  \n",
       "1        70000           0  Pós-graduado     36  \n",
       "2        80000           5  Pós-graduado     36  \n",
       "3        70000           0  Pós-graduado     39  \n",
       "4        70000           0  Pós-graduado     38  "
      ]
     },
     "execution_count": 12,
     "metadata": {},
     "output_type": "execute_result"
    }
   ],
   "source": [
    "base['Estado_Civil'] = base['Estado_Civil'].str.replace('C', 'Casado(a)').replace('S', 'Solteiro(a)')\n",
    "\n",
    "base.head()"
   ]
  },
  {
   "cell_type": "markdown",
   "metadata": {},
   "source": [
    "##### c) Transformando Sexo para 'Masculino' ou 'Feminino':"
   ]
  },
  {
   "cell_type": "code",
   "execution_count": 13,
   "metadata": {},
   "outputs": [
    {
     "data": {
      "text/html": [
       "<div>\n",
       "<style scoped>\n",
       "    .dataframe tbody tr th:only-of-type {\n",
       "        vertical-align: middle;\n",
       "    }\n",
       "\n",
       "    .dataframe tbody tr th {\n",
       "        vertical-align: top;\n",
       "    }\n",
       "\n",
       "    .dataframe thead th {\n",
       "        text-align: right;\n",
       "    }\n",
       "</style>\n",
       "<table border=\"1\" class=\"dataframe\">\n",
       "  <thead>\n",
       "    <tr style=\"text-align: right;\">\n",
       "      <th></th>\n",
       "      <th>ID_Cliente</th>\n",
       "      <th>Nome</th>\n",
       "      <th>Sobrenome</th>\n",
       "      <th>Data_Nascimento</th>\n",
       "      <th>Estado_Civil</th>\n",
       "      <th>Sexo</th>\n",
       "      <th>Renda_Anual</th>\n",
       "      <th>Qtd_Filhos</th>\n",
       "      <th>Escolaridade</th>\n",
       "      <th>Idade</th>\n",
       "    </tr>\n",
       "  </thead>\n",
       "  <tbody>\n",
       "    <tr>\n",
       "      <th>0</th>\n",
       "      <td>1</td>\n",
       "      <td>Ruben</td>\n",
       "      <td>Torres</td>\n",
       "      <td>1985-08-07</td>\n",
       "      <td>Casado(a)</td>\n",
       "      <td>Masculino</td>\n",
       "      <td>60000</td>\n",
       "      <td>3</td>\n",
       "      <td>Pós-graduado</td>\n",
       "      <td>39</td>\n",
       "    </tr>\n",
       "    <tr>\n",
       "      <th>1</th>\n",
       "      <td>2</td>\n",
       "      <td>Christy</td>\n",
       "      <td>Zhu</td>\n",
       "      <td>1988-02-10</td>\n",
       "      <td>Solteiro(a)</td>\n",
       "      <td>Feminino</td>\n",
       "      <td>70000</td>\n",
       "      <td>0</td>\n",
       "      <td>Pós-graduado</td>\n",
       "      <td>36</td>\n",
       "    </tr>\n",
       "    <tr>\n",
       "      <th>2</th>\n",
       "      <td>3</td>\n",
       "      <td>Elizabeth</td>\n",
       "      <td>Johnson</td>\n",
       "      <td>1988-08-03</td>\n",
       "      <td>Solteiro(a)</td>\n",
       "      <td>Feminino</td>\n",
       "      <td>80000</td>\n",
       "      <td>5</td>\n",
       "      <td>Pós-graduado</td>\n",
       "      <td>36</td>\n",
       "    </tr>\n",
       "    <tr>\n",
       "      <th>3</th>\n",
       "      <td>4</td>\n",
       "      <td>Julio</td>\n",
       "      <td>Ruiz</td>\n",
       "      <td>1985-07-31</td>\n",
       "      <td>Solteiro(a)</td>\n",
       "      <td>Masculino</td>\n",
       "      <td>70000</td>\n",
       "      <td>0</td>\n",
       "      <td>Pós-graduado</td>\n",
       "      <td>39</td>\n",
       "    </tr>\n",
       "    <tr>\n",
       "      <th>4</th>\n",
       "      <td>5</td>\n",
       "      <td>Janet</td>\n",
       "      <td>Alvarez</td>\n",
       "      <td>1985-12-01</td>\n",
       "      <td>Solteiro(a)</td>\n",
       "      <td>Feminino</td>\n",
       "      <td>70000</td>\n",
       "      <td>0</td>\n",
       "      <td>Pós-graduado</td>\n",
       "      <td>38</td>\n",
       "    </tr>\n",
       "  </tbody>\n",
       "</table>\n",
       "</div>"
      ],
      "text/plain": [
       "   ID_Cliente       Nome Sobrenome Data_Nascimento Estado_Civil       Sexo  \\\n",
       "0           1      Ruben    Torres      1985-08-07    Casado(a)  Masculino   \n",
       "1           2    Christy       Zhu      1988-02-10  Solteiro(a)   Feminino   \n",
       "2           3  Elizabeth   Johnson      1988-08-03  Solteiro(a)   Feminino   \n",
       "3           4      Julio      Ruiz      1985-07-31  Solteiro(a)  Masculino   \n",
       "4           5      Janet   Alvarez      1985-12-01  Solteiro(a)   Feminino   \n",
       "\n",
       "   Renda_Anual  Qtd_Filhos  Escolaridade  Idade  \n",
       "0        60000           3  Pós-graduado     39  \n",
       "1        70000           0  Pós-graduado     36  \n",
       "2        80000           5  Pós-graduado     36  \n",
       "3        70000           0  Pós-graduado     39  \n",
       "4        70000           0  Pós-graduado     38  "
      ]
     },
     "execution_count": 13,
     "metadata": {},
     "output_type": "execute_result"
    }
   ],
   "source": [
    "base['Sexo'] = base['Sexo'].str.replace('M', 'Masculino').replace('F', 'Feminino')\n",
    "\n",
    "base.head()"
   ]
  },
  {
   "cell_type": "markdown",
   "metadata": {},
   "source": [
    "---"
   ]
  },
  {
   "cell_type": "markdown",
   "metadata": {},
   "source": [
    "### 5. Analisando a Base de Clientes:"
   ]
  },
  {
   "cell_type": "markdown",
   "metadata": {},
   "source": [
    "##### a) Total de clientes:"
   ]
  },
  {
   "cell_type": "code",
   "execution_count": 59,
   "metadata": {},
   "outputs": [
    {
     "name": "stdout",
     "output_type": "stream",
     "text": [
      "A base de dados analisada possui um total de 100 clientes cadastrados.\n"
     ]
    }
   ],
   "source": [
    "total_clientes = base['ID_Cliente'].count()\n",
    "\n",
    "texto_total_clientes = f'A base de dados analisada possui um total de {total_clientes} clientes cadastrados.'\n",
    "\n",
    "print(texto_total_clientes)"
   ]
  },
  {
   "cell_type": "markdown",
   "metadata": {},
   "source": [
    "##### b) Análise por gênero:"
   ]
  },
  {
   "cell_type": "code",
   "execution_count": 55,
   "metadata": {},
   "outputs": [
    {
     "name": "stdout",
     "output_type": "stream",
     "text": [
      "A base de dados analisada possui 48 clientes do sexo Masculino e 52 do sexo Feminino.\n"
     ]
    }
   ],
   "source": [
    "sexo_m = (base['Sexo'] == 'Masculino').sum()\n",
    "sexo_f = (base['Sexo'] == 'Feminino').sum()\n",
    "\n",
    "texto_qtd_genero = f'A base de dados analisada possui {sexo_m} clientes do sexo Masculino e {sexo_f} do sexo Feminino.'\n",
    "\n",
    "print(texto_qtd_genero)"
   ]
  },
  {
   "cell_type": "code",
   "execution_count": 16,
   "metadata": {},
   "outputs": [
    {
     "data": {
      "text/plain": [
       "Text(0, 0.5, '')"
      ]
     },
     "execution_count": 16,
     "metadata": {},
     "output_type": "execute_result"
    },
    {
     "data": {
      "image/png": "[encoded data removed]",
      "text/plain": [
       "<Figure size 600x300 with 1 Axes>"
      ]
     },
     "metadata": {},
     "output_type": "display_data"
    }
   ],
   "source": [
    "import matplotlib.pyplot as plt\n",
    "\n",
    "base_genero = base['Sexo'].value_counts()\n",
    "base_genero.plot(kind='pie', figsize=(6, 3), autopct='%1.1f%%')\n",
    "plt.title('Distribuição por Gênero')\n",
    "plt.ylabel('')"
   ]
  },
  {
   "cell_type": "markdown",
   "metadata": {},
   "source": [
    "##### c) Análise por estado civil:"
   ]
  },
  {
   "cell_type": "code",
   "execution_count": 56,
   "metadata": {},
   "outputs": [
    {
     "name": "stdout",
     "output_type": "stream",
     "text": [
      "A base de dados analisada possui 56 clientes casado(a)s e 44 solteiro(a)s.\n"
     ]
    }
   ],
   "source": [
    "casados = (base['Estado_Civil'] == 'Casado(a)').sum()\n",
    "solteiros = (base['Estado_Civil'] == 'Solteiro(a)').sum()\n",
    "\n",
    "texto_qtd_ec = f'A base de dados analisada possui {casados} clientes casado(a)s e {solteiros} solteiro(a)s.'\n",
    "\n",
    "print(texto_qtd_ec)"
   ]
  },
  {
   "cell_type": "code",
   "execution_count": 18,
   "metadata": {},
   "outputs": [
    {
     "data": {
      "text/plain": [
       "Text(0, 0.5, '')"
      ]
     },
     "execution_count": 18,
     "metadata": {},
     "output_type": "execute_result"
    },
    {
     "data": {
      "image/png": "[encoded data removed]",
      "text/plain": [
       "<Figure size 600x300 with 1 Axes>"
      ]
     },
     "metadata": {},
     "output_type": "display_data"
    }
   ],
   "source": [
    "base_ec = base['Estado_Civil'].value_counts()\n",
    "base_ec.plot(kind='pie', figsize=(6, 3), autopct='%1.1f%%')\n",
    "plt.title('Distribuição por Estado Civil')\n",
    "plt.ylabel('')"
   ]
  },
  {
   "cell_type": "markdown",
   "metadata": {},
   "source": [
    "##### d) Relação sexo x estado civil:"
   ]
  },
  {
   "cell_type": "code",
   "execution_count": 19,
   "metadata": {},
   "outputs": [
    {
     "data": {
      "text/html": [
       "<div>\n",
       "<style scoped>\n",
       "    .dataframe tbody tr th:only-of-type {\n",
       "        vertical-align: middle;\n",
       "    }\n",
       "\n",
       "    .dataframe tbody tr th {\n",
       "        vertical-align: top;\n",
       "    }\n",
       "\n",
       "    .dataframe thead th {\n",
       "        text-align: right;\n",
       "    }\n",
       "</style>\n",
       "<table border=\"1\" class=\"dataframe\">\n",
       "  <thead>\n",
       "    <tr style=\"text-align: right;\">\n",
       "      <th>Estado_Civil</th>\n",
       "      <th>Casado(a)</th>\n",
       "      <th>Solteiro(a)</th>\n",
       "    </tr>\n",
       "    <tr>\n",
       "      <th>Sexo</th>\n",
       "      <th></th>\n",
       "      <th></th>\n",
       "    </tr>\n",
       "  </thead>\n",
       "  <tbody>\n",
       "    <tr>\n",
       "      <th>Feminino</th>\n",
       "      <td>23</td>\n",
       "      <td>29</td>\n",
       "    </tr>\n",
       "    <tr>\n",
       "      <th>Masculino</th>\n",
       "      <td>33</td>\n",
       "      <td>15</td>\n",
       "    </tr>\n",
       "  </tbody>\n",
       "</table>\n",
       "</div>"
      ],
      "text/plain": [
       "Estado_Civil  Casado(a)  Solteiro(a)\n",
       "Sexo                                \n",
       "Feminino             23           29\n",
       "Masculino            33           15"
      ]
     },
     "metadata": {},
     "output_type": "display_data"
    }
   ],
   "source": [
    "tb_sexo_ec = pd.crosstab(base['Sexo'], base['Estado_Civil'])\n",
    "display(tb_sexo_ec)"
   ]
  },
  {
   "cell_type": "code",
   "execution_count": 20,
   "metadata": {},
   "outputs": [
    {
     "data": {
      "text/plain": [
       "Text(0.5, 0, '')"
      ]
     },
     "execution_count": 20,
     "metadata": {},
     "output_type": "execute_result"
    },
    {
     "data": {
      "image/png": "[encoded data removed]",
      "text/plain": [
       "<Figure size 1000x400 with 1 Axes>"
      ]
     },
     "metadata": {},
     "output_type": "display_data"
    }
   ],
   "source": [
    "tb_sexo_ec.plot(kind='bar', figsize=(10, 4))\n",
    "plt.title('Relação Sexo x Estado Civil')\n",
    "plt.xlabel('')"
   ]
  },
  {
   "cell_type": "code",
   "execution_count": 57,
   "metadata": {},
   "outputs": [
    {
     "name": "stdout",
     "output_type": "stream",
     "text": [
      "A proporção de homens casados é de 68.8%, enquanto a proporção de mulheres casadas é de 44.2%.\n"
     ]
    }
   ],
   "source": [
    "homens_casados = base[(base['Sexo'] == \"Masculino\") & (base['Estado_Civil'] == \"Casado(a)\")]\n",
    "casados = homens_casados.shape[0]\n",
    "\n",
    "mulheres_casadas = base[(base['Sexo'] == \"Feminino\") & (base['Estado_Civil'] == \"Casado(a)\")]\n",
    "casadas = mulheres_casadas.shape[0]\n",
    "\n",
    "texto_sexo_ec = f'A proporção de homens casados é de {(casados / sexo_m) * 100:.1f}%, enquanto a proporção de mulheres casadas é de {(casadas / sexo_f) * 100:.1f}%.'\n",
    "\n",
    "print(texto_sexo_ec)"
   ]
  },
  {
   "cell_type": "markdown",
   "metadata": {},
   "source": [
    "##### e) Análise por escolaridade:"
   ]
  },
  {
   "cell_type": "code",
   "execution_count": 22,
   "metadata": {},
   "outputs": [
    {
     "data": {
      "text/plain": [
       "array(['Pós-graduado', 'Parcial', 'Ensino médio', 'Graduação'],\n",
       "      dtype=object)"
      ]
     },
     "execution_count": 22,
     "metadata": {},
     "output_type": "execute_result"
    }
   ],
   "source": [
    "base['Escolaridade'].unique()"
   ]
  },
  {
   "cell_type": "code",
   "execution_count": 58,
   "metadata": {},
   "outputs": [
    {
     "name": "stdout",
     "output_type": "stream",
     "text": [
      "Do total de clientes, 46 possuem nível de escolaridade Parcial, 27 possuem Nível Médio, 6 possuem Formação Fuperior e 21 Pós-graduação.\n"
     ]
    }
   ],
   "source": [
    "parc = (base['Escolaridade'] == 'Parcial').sum()\n",
    "med = (base['Escolaridade'] == 'Ensino médio').sum()\n",
    "grad = (base['Escolaridade'] == 'Graduação').sum()\n",
    "pos = (base['Escolaridade'] == 'Pós-graduado').sum()\n",
    "\n",
    "texto_esc = f'Do total de clientes, {parc} possuem nível de escolaridade Parcial, {med} possuem Nível Médio, {grad} possuem Formação Fuperior e {pos} Pós-graduação.'\n",
    "\n",
    "print(texto_esc)"
   ]
  },
  {
   "cell_type": "code",
   "execution_count": 24,
   "metadata": {},
   "outputs": [
    {
     "data": {
      "text/plain": [
       "Text(0.5, 1.0, 'Distribuição de clientes por Escolaridade')"
      ]
     },
     "execution_count": 24,
     "metadata": {},
     "output_type": "execute_result"
    },
    {
     "data": {
      "image/png": "[encoded data removed]",
      "text/plain": [
       "<Figure size 1000x400 with 1 Axes>"
      ]
     },
     "metadata": {},
     "output_type": "display_data"
    }
   ],
   "source": [
    "base_esc = base['Escolaridade'].value_counts()\n",
    "base_esc.plot(kind='barh', figsize=(10, 4))\n",
    "plt.title('Distribuição de clientes por Escolaridade')"
   ]
  },
  {
   "cell_type": "markdown",
   "metadata": {},
   "source": [
    "##### f) Relação sexo x escolaridade:"
   ]
  },
  {
   "cell_type": "code",
   "execution_count": 25,
   "metadata": {},
   "outputs": [
    {
     "data": {
      "text/html": [
       "<div>\n",
       "<style scoped>\n",
       "    .dataframe tbody tr th:only-of-type {\n",
       "        vertical-align: middle;\n",
       "    }\n",
       "\n",
       "    .dataframe tbody tr th {\n",
       "        vertical-align: top;\n",
       "    }\n",
       "\n",
       "    .dataframe thead th {\n",
       "        text-align: right;\n",
       "    }\n",
       "</style>\n",
       "<table border=\"1\" class=\"dataframe\">\n",
       "  <thead>\n",
       "    <tr style=\"text-align: right;\">\n",
       "      <th>Escolaridade</th>\n",
       "      <th>Ensino médio</th>\n",
       "      <th>Graduação</th>\n",
       "      <th>Parcial</th>\n",
       "      <th>Pós-graduado</th>\n",
       "    </tr>\n",
       "    <tr>\n",
       "      <th>Sexo</th>\n",
       "      <th></th>\n",
       "      <th></th>\n",
       "      <th></th>\n",
       "      <th></th>\n",
       "    </tr>\n",
       "  </thead>\n",
       "  <tbody>\n",
       "    <tr>\n",
       "      <th>Feminino</th>\n",
       "      <td>16</td>\n",
       "      <td>3</td>\n",
       "      <td>21</td>\n",
       "      <td>12</td>\n",
       "    </tr>\n",
       "    <tr>\n",
       "      <th>Masculino</th>\n",
       "      <td>11</td>\n",
       "      <td>3</td>\n",
       "      <td>25</td>\n",
       "      <td>9</td>\n",
       "    </tr>\n",
       "  </tbody>\n",
       "</table>\n",
       "</div>"
      ],
      "text/plain": [
       "Escolaridade  Ensino médio  Graduação  Parcial  Pós-graduado\n",
       "Sexo                                                        \n",
       "Feminino                16          3       21            12\n",
       "Masculino               11          3       25             9"
      ]
     },
     "metadata": {},
     "output_type": "display_data"
    }
   ],
   "source": [
    "tb_sexo_esc = pd.crosstab(base['Sexo'], base['Escolaridade'])\n",
    "display(tb_sexo_esc)"
   ]
  },
  {
   "cell_type": "code",
   "execution_count": 28,
   "metadata": {},
   "outputs": [
    {
     "data": {
      "text/plain": [
       "Text(0.5, 0, '')"
      ]
     },
     "execution_count": 28,
     "metadata": {},
     "output_type": "execute_result"
    },
    {
     "data": {
      "image/png": "[encoded data removed]",
      "text/plain": [
       "<Figure size 1200x400 with 1 Axes>"
      ]
     },
     "metadata": {},
     "output_type": "display_data"
    }
   ],
   "source": [
    "tb_sexo_esc.plot(kind='bar', figsize=(12, 4))\n",
    "plt.title('Relação Sexo x Escolaridade')\n",
    "plt.xlabel('')"
   ]
  },
  {
   "cell_type": "code",
   "execution_count": 30,
   "metadata": {},
   "outputs": [
    {
     "name": "stdout",
     "output_type": "stream",
     "text": [
      "\n",
      "Relação Sexo x Escolaridade:\n",
      "\n",
      "Conforme os dados analisados, dentre os clientes homens da base de dados em análise temos:\n",
      "    - 52.1% possuem nível de escolaridade Parcial;\n",
      "    - 22.9% possuem nível de escolaridade Médio;\n",
      "    - 6.2% possuem nível de escolaridade Superior;\n",
      "    - 18.8% possuem nível de escolaridade Pós-Graduação.\n",
      "\n",
      "Já, dentre as clientes mulheres o cenário é:\n",
      "    - 40.4% possuem nível de escolaridade Parcial;\n",
      "    - 30.8% possuem nível de escolaridade Médio;\n",
      "    - 5.8% possuem nível de escolaridade Superior;\n",
      "    - 23.1% possuem nível de escolaridade Pós-Graduação.\n",
      "\n"
     ]
    }
   ],
   "source": [
    "h_parc = base[(base['Sexo'] == \"Masculino\") & (base['Escolaridade'] == \"Parcial\")]\n",
    "h_parcial = h_parc.shape[0]\n",
    "\n",
    "h_med = base[(base['Sexo'] == \"Masculino\") & (base['Escolaridade'] == \"Ensino médio\")]\n",
    "h_medio = h_med.shape[0]\n",
    "\n",
    "h_grad = base[(base['Sexo'] == \"Masculino\") & (base['Escolaridade'] == \"Graduação\")]\n",
    "h_graduacao = h_grad.shape[0]\n",
    "\n",
    "h_pos = base[(base['Sexo'] == \"Masculino\") & (base['Escolaridade'] == \"Pós-graduado\")]\n",
    "h_posgrad = h_pos.shape[0]\n",
    "\n",
    "m_parc = base[(base['Sexo'] == \"Feminino\") & (base['Escolaridade'] == \"Parcial\")]\n",
    "m_parcial = m_parc.shape[0]\n",
    "\n",
    "m_med = base[(base['Sexo'] == \"Feminino\") & (base['Escolaridade'] == \"Ensino médio\")]\n",
    "m_medio = m_med.shape[0]\n",
    "\n",
    "m_grad = base[(base['Sexo'] == \"Feminino\") & (base['Escolaridade'] == \"Graduação\")]\n",
    "m_graduacao = m_grad.shape[0]\n",
    "\n",
    "m_pos = base[(base['Sexo'] == \"Feminino\") & (base['Escolaridade'] == \"Pós-graduado\")]\n",
    "m_posgrad = m_pos.shape[0]\n",
    "\n",
    "texto_sexo_esc = f\"\"\"\n",
    "Relação Sexo x Escolaridade:\n",
    "\n",
    "Conforme os dados analisados, dentre os clientes homens da base de dados em análise temos:\n",
    "    - {(h_parcial / sexo_m) * 100:.1f}% possuem nível de escolaridade Parcial;\n",
    "    - {(h_medio / sexo_m) * 100:.1f}% possuem nível de escolaridade Médio;\n",
    "    - {(h_graduacao / sexo_m) * 100:.1f}% possuem nível de escolaridade Superior;\n",
    "    - {(h_posgrad / sexo_m) * 100:.1f}% possuem nível de escolaridade Pós-Graduação.\n",
    "\n",
    "Já, dentre as clientes mulheres o cenário é:\n",
    "    - {(m_parcial / sexo_f) * 100:.1f}% possuem nível de escolaridade Parcial;\n",
    "    - {(m_medio / sexo_f) * 100:.1f}% possuem nível de escolaridade Médio;\n",
    "    - {(m_graduacao / sexo_f) * 100:.1f}% possuem nível de escolaridade Superior;\n",
    "    - {(m_posgrad / sexo_f) * 100:.1f}% possuem nível de escolaridade Pós-Graduação.\n",
    "\"\"\"\n",
    "\n",
    "print(texto_sexo_esc)"
   ]
  },
  {
   "cell_type": "markdown",
   "metadata": {},
   "source": [
    "##### g) Análise por idade:"
   ]
  },
  {
   "cell_type": "code",
   "execution_count": 33,
   "metadata": {},
   "outputs": [
    {
     "name": "stdout",
     "output_type": "stream",
     "text": [
      "\n",
      "Dentre os dados análisados, o(a) cliente mais jovem possui 24 anos, já o(a) cliente mais velho possui 60 anos.\n",
      "A méida de idade da base de clientes analisada é de 42.74 anos.\n",
      "\n"
     ]
    }
   ],
   "source": [
    "idade_max = base['Idade'].max()\n",
    "idade_min = base['Idade'].min()\n",
    "idade_media = base['Idade'].mean()\n",
    "\n",
    "texto_idade = f'''\n",
    "Dentre os dados análisados, o(a) cliente mais jovem possui {idade_min} anos, já o(a) cliente mais velho possui {idade_max} anos.\n",
    "A méida de idade da base de clientes analisada é de {idade_media} anos.\n",
    "'''\n",
    "\n",
    "print(texto_idade)"
   ]
  },
  {
   "cell_type": "markdown",
   "metadata": {},
   "source": [
    "##### h) Relação sexo x idade:"
   ]
  },
  {
   "cell_type": "code",
   "execution_count": 44,
   "metadata": {},
   "outputs": [
    {
     "data": {
      "text/html": [
       "<div>\n",
       "<style scoped>\n",
       "    .dataframe tbody tr th:only-of-type {\n",
       "        vertical-align: middle;\n",
       "    }\n",
       "\n",
       "    .dataframe tbody tr th {\n",
       "        vertical-align: top;\n",
       "    }\n",
       "\n",
       "    .dataframe thead th {\n",
       "        text-align: right;\n",
       "    }\n",
       "</style>\n",
       "<table border=\"1\" class=\"dataframe\">\n",
       "  <thead>\n",
       "    <tr style=\"text-align: right;\">\n",
       "      <th></th>\n",
       "      <th>min</th>\n",
       "      <th>max</th>\n",
       "      <th>mean</th>\n",
       "    </tr>\n",
       "    <tr>\n",
       "      <th>Sexo</th>\n",
       "      <th></th>\n",
       "      <th></th>\n",
       "      <th></th>\n",
       "    </tr>\n",
       "  </thead>\n",
       "  <tbody>\n",
       "    <tr>\n",
       "      <th>Feminino</th>\n",
       "      <td>24</td>\n",
       "      <td>60</td>\n",
       "      <td>41.923077</td>\n",
       "    </tr>\n",
       "    <tr>\n",
       "      <th>Masculino</th>\n",
       "      <td>25</td>\n",
       "      <td>59</td>\n",
       "      <td>43.625000</td>\n",
       "    </tr>\n",
       "  </tbody>\n",
       "</table>\n",
       "</div>"
      ],
      "text/plain": [
       "           min  max       mean\n",
       "Sexo                          \n",
       "Feminino    24   60  41.923077\n",
       "Masculino   25   59  43.625000"
      ]
     },
     "execution_count": 44,
     "metadata": {},
     "output_type": "execute_result"
    }
   ],
   "source": [
    "tb_sexo_idade = base.groupby('Sexo')['Idade'].agg(['min', 'max', 'mean'])\n",
    "tb_sexo_idade"
   ]
  },
  {
   "cell_type": "code",
   "execution_count": 50,
   "metadata": {},
   "outputs": [
    {
     "name": "stdout",
     "output_type": "stream",
     "text": [
      "\n",
      "Relação Sexo x Idade:\n",
      "\n",
      "Dentre os clientes homens, a idade mínima é de 25, a idade máxima é de 59. Já a média de idade dentre os homens é de 43.62.\n",
      "Dentre as clientes mulheres, a idade mínima é de 24, a idade máxima é de 60. Já a média de idade dentre as mulheres é de 41.92.\n",
      "\n"
     ]
    }
   ],
   "source": [
    "texto_sexo_idade = f\"\"\"\n",
    "Relação Sexo x Idade:\n",
    "\n",
    "Dentre os clientes homens, a idade mínima é de {tb_sexo_idade['min'][1]}, a idade máxima é de {tb_sexo_idade['max'][1]}. Já a média de idade dentre os homens é de {tb_sexo_idade['mean'][1]:.2f}.\n",
    "Dentre as clientes mulheres, a idade mínima é de {tb_sexo_idade['min'][0]}, a idade máxima é de {tb_sexo_idade['max'][0]}. Já a média de idade dentre as mulheres é de {tb_sexo_idade['mean'][0]:.2f}.\n",
    "\"\"\"\n",
    "\n",
    "print(texto_sexo_idade)"
   ]
  },
  {
   "cell_type": "code",
   "execution_count": 52,
   "metadata": {},
   "outputs": [
    {
     "data": {
      "text/plain": [
       "Text(0.5, 0, '')"
      ]
     },
     "execution_count": 52,
     "metadata": {},
     "output_type": "execute_result"
    },
    {
     "data": {
      "image/png": "[encoded data removed]",
      "text/plain": [
       "<Figure size 1200x400 with 1 Axes>"
      ]
     },
     "metadata": {},
     "output_type": "display_data"
    }
   ],
   "source": [
    "tb_sexo_idade.plot(kind='bar', figsize=(12, 4))\n",
    "plt.title('Relação Sexo x Idade')\n",
    "plt.xlabel('')"
   ]
  },
  {
   "cell_type": "markdown",
   "metadata": {},
   "source": [
    "##### i) Análise por quantidade de filhos:"
   ]
  },
  {
   "cell_type": "code",
   "execution_count": 73,
   "metadata": {},
   "outputs": [
    {
     "name": "stdout",
     "output_type": "stream",
     "text": [
      "5 1.59 33 2\n"
     ]
    }
   ],
   "source": [
    "filhos_max = base['Qtd_Filhos'].max()\n",
    "filhos_media = base['Qtd_Filhos'].mean()\n",
    "filhos_zero = (base['Qtd_Filhos'] == 0).sum()\n",
    "filhos_top = (base['Qtd_Filhos'] == base['Qtd_Filhos'].max()).sum()\n",
    "\n",
    "print(filhos_max, filhos_media, filhos_zero, filhos_top)"
   ]
  },
  {
   "cell_type": "code",
   "execution_count": 72,
   "metadata": {},
   "outputs": [
    {
     "data": {
      "text/html": [
       "<div>\n",
       "<style scoped>\n",
       "    .dataframe tbody tr th:only-of-type {\n",
       "        vertical-align: middle;\n",
       "    }\n",
       "\n",
       "    .dataframe tbody tr th {\n",
       "        vertical-align: top;\n",
       "    }\n",
       "\n",
       "    .dataframe thead th {\n",
       "        text-align: right;\n",
       "    }\n",
       "</style>\n",
       "<table border=\"1\" class=\"dataframe\">\n",
       "  <thead>\n",
       "    <tr style=\"text-align: right;\">\n",
       "      <th></th>\n",
       "      <th>min</th>\n",
       "      <th>max</th>\n",
       "      <th>mean</th>\n",
       "    </tr>\n",
       "    <tr>\n",
       "      <th>Sexo</th>\n",
       "      <th></th>\n",
       "      <th></th>\n",
       "      <th></th>\n",
       "    </tr>\n",
       "  </thead>\n",
       "  <tbody>\n",
       "    <tr>\n",
       "      <th>Feminino</th>\n",
       "      <td>0</td>\n",
       "      <td>5</td>\n",
       "      <td>1.634615</td>\n",
       "    </tr>\n",
       "    <tr>\n",
       "      <th>Masculino</th>\n",
       "      <td>0</td>\n",
       "      <td>4</td>\n",
       "      <td>1.541667</td>\n",
       "    </tr>\n",
       "  </tbody>\n",
       "</table>\n",
       "</div>"
      ],
      "text/plain": [
       "           min  max      mean\n",
       "Sexo                         \n",
       "Feminino     0    5  1.634615\n",
       "Masculino    0    4  1.541667"
      ]
     },
     "execution_count": 72,
     "metadata": {},
     "output_type": "execute_result"
    }
   ],
   "source": [
    "tb_sexo_filhos = base.groupby('Sexo')['Qtd_Filhos'].agg(['min', 'max', 'mean'])\n",
    "tb_sexo_filhos"
   ]
  },
  {
   "cell_type": "code",
   "execution_count": 75,
   "metadata": {},
   "outputs": [
    {
     "name": "stdout",
     "output_type": "stream",
     "text": [
      "\n",
      "Em relação a quantidade de filhos, observa-se, na análise, que a média de filhos por cliente é de 1.59.\n",
      "Observa-se, também, que o número máximo de filhos que um(a) cliente tem é de 5, sendo que a quantidade de clientes que tem o número máximo de filhos é de 2 clientes.\n",
      "Foi possível observar, ainda, que a média de filhos por cliente homem é de 1.54, e a média de filhos por cliente mulher é de 1.63.\n",
      "\n"
     ]
    }
   ],
   "source": [
    "texto_filhos = f\"\"\"\n",
    "Em relação a quantidade de filhos, observa-se, na análise, que a média de filhos por cliente é de {filhos_media}.\n",
    "Observa-se, também, que o número máximo de filhos que um(a) cliente tem é de {filhos_max}, sendo que a quantidade de clientes que tem o número máximo de filhos é de {filhos_top} clientes.\n",
    "Foi possível observar, ainda, que a média de filhos por cliente homem é de {tb_sexo_filhos['mean'][1]:.2f}, e a média de filhos por cliente mulher é de {tb_sexo_filhos['mean'][0]:.2f}.\n",
    "\"\"\"\n",
    "\n",
    "print(texto_filhos)"
   ]
  },
  {
   "cell_type": "markdown",
   "metadata": {},
   "source": [
    "##### j) Análise por renda:"
   ]
  },
  {
   "cell_type": "code",
   "execution_count": 77,
   "metadata": {},
   "outputs": [
    {
     "data": {
      "text/html": [
       "<div>\n",
       "<style scoped>\n",
       "    .dataframe tbody tr th:only-of-type {\n",
       "        vertical-align: middle;\n",
       "    }\n",
       "\n",
       "    .dataframe tbody tr th {\n",
       "        vertical-align: top;\n",
       "    }\n",
       "\n",
       "    .dataframe thead th {\n",
       "        text-align: right;\n",
       "    }\n",
       "</style>\n",
       "<table border=\"1\" class=\"dataframe\">\n",
       "  <thead>\n",
       "    <tr style=\"text-align: right;\">\n",
       "      <th></th>\n",
       "      <th>ID_Cliente</th>\n",
       "      <th>Nome</th>\n",
       "      <th>Sobrenome</th>\n",
       "      <th>Data_Nascimento</th>\n",
       "      <th>Estado_Civil</th>\n",
       "      <th>Sexo</th>\n",
       "      <th>Renda_Anual</th>\n",
       "      <th>Qtd_Filhos</th>\n",
       "      <th>Escolaridade</th>\n",
       "      <th>Idade</th>\n",
       "    </tr>\n",
       "  </thead>\n",
       "  <tbody>\n",
       "    <tr>\n",
       "      <th>0</th>\n",
       "      <td>1</td>\n",
       "      <td>Ruben</td>\n",
       "      <td>Torres</td>\n",
       "      <td>1985-08-07</td>\n",
       "      <td>Casado(a)</td>\n",
       "      <td>Masculino</td>\n",
       "      <td>60000</td>\n",
       "      <td>3</td>\n",
       "      <td>Pós-graduado</td>\n",
       "      <td>39</td>\n",
       "    </tr>\n",
       "    <tr>\n",
       "      <th>1</th>\n",
       "      <td>2</td>\n",
       "      <td>Christy</td>\n",
       "      <td>Zhu</td>\n",
       "      <td>1988-02-10</td>\n",
       "      <td>Solteiro(a)</td>\n",
       "      <td>Feminino</td>\n",
       "      <td>70000</td>\n",
       "      <td>0</td>\n",
       "      <td>Pós-graduado</td>\n",
       "      <td>36</td>\n",
       "    </tr>\n",
       "    <tr>\n",
       "      <th>2</th>\n",
       "      <td>3</td>\n",
       "      <td>Elizabeth</td>\n",
       "      <td>Johnson</td>\n",
       "      <td>1988-08-03</td>\n",
       "      <td>Solteiro(a)</td>\n",
       "      <td>Feminino</td>\n",
       "      <td>80000</td>\n",
       "      <td>5</td>\n",
       "      <td>Pós-graduado</td>\n",
       "      <td>36</td>\n",
       "    </tr>\n",
       "    <tr>\n",
       "      <th>3</th>\n",
       "      <td>4</td>\n",
       "      <td>Julio</td>\n",
       "      <td>Ruiz</td>\n",
       "      <td>1985-07-31</td>\n",
       "      <td>Solteiro(a)</td>\n",
       "      <td>Masculino</td>\n",
       "      <td>70000</td>\n",
       "      <td>0</td>\n",
       "      <td>Pós-graduado</td>\n",
       "      <td>39</td>\n",
       "    </tr>\n",
       "    <tr>\n",
       "      <th>4</th>\n",
       "      <td>5</td>\n",
       "      <td>Janet</td>\n",
       "      <td>Alvarez</td>\n",
       "      <td>1985-12-01</td>\n",
       "      <td>Solteiro(a)</td>\n",
       "      <td>Feminino</td>\n",
       "      <td>70000</td>\n",
       "      <td>0</td>\n",
       "      <td>Pós-graduado</td>\n",
       "      <td>38</td>\n",
       "    </tr>\n",
       "  </tbody>\n",
       "</table>\n",
       "</div>"
      ],
      "text/plain": [
       "   ID_Cliente       Nome Sobrenome Data_Nascimento Estado_Civil       Sexo  \\\n",
       "0           1      Ruben    Torres      1985-08-07    Casado(a)  Masculino   \n",
       "1           2    Christy       Zhu      1988-02-10  Solteiro(a)   Feminino   \n",
       "2           3  Elizabeth   Johnson      1988-08-03  Solteiro(a)   Feminino   \n",
       "3           4      Julio      Ruiz      1985-07-31  Solteiro(a)  Masculino   \n",
       "4           5      Janet   Alvarez      1985-12-01  Solteiro(a)   Feminino   \n",
       "\n",
       "   Renda_Anual  Qtd_Filhos  Escolaridade  Idade  \n",
       "0        60000           3  Pós-graduado     39  \n",
       "1        70000           0  Pós-graduado     36  \n",
       "2        80000           5  Pós-graduado     36  \n",
       "3        70000           0  Pós-graduado     39  \n",
       "4        70000           0  Pós-graduado     38  "
      ]
     },
     "execution_count": 77,
     "metadata": {},
     "output_type": "execute_result"
    }
   ],
   "source": [
    "base.head()"
   ]
  },
  {
   "cell_type": "code",
   "execution_count": 81,
   "metadata": {},
   "outputs": [
    {
     "name": "stdout",
     "output_type": "stream",
     "text": [
      "\n",
      "Em relação aos rendimentos, foi identificado que a renda média da base de clientes é de R$ 59_800.00 ao ano.\n",
      "A maior renda que um(a) cliente possui é de R$ 170_000.00, já a menor renda de um(a) cliente é de R$ 10_000.00, também ao ano.\n",
      "\n"
     ]
    }
   ],
   "source": [
    "renda_min = base['Renda_Anual'].min()\n",
    "renda_max = base['Renda_Anual'].max()\n",
    "renda_media = base['Renda_Anual'].mean()\n",
    "\n",
    "texto_renda = f'''\n",
    "Em relação aos rendimentos, foi identificado que a renda média da base de clientes é de R$ {renda_media:_.2f} ao ano.\n",
    "A maior renda que um(a) cliente possui é de R$ {renda_max:_.2f}, já a menor renda de um(a) cliente é de R$ {renda_min:_.2f}, também ao ano.\n",
    "'''\n",
    "\n",
    "print(texto_renda)"
   ]
  },
  {
   "cell_type": "markdown",
   "metadata": {},
   "source": [
    "##### k) Relação sexo x renda:"
   ]
  },
  {
   "cell_type": "code",
   "execution_count": 83,
   "metadata": {},
   "outputs": [
    {
     "data": {
      "text/html": [
       "<div>\n",
       "<style scoped>\n",
       "    .dataframe tbody tr th:only-of-type {\n",
       "        vertical-align: middle;\n",
       "    }\n",
       "\n",
       "    .dataframe tbody tr th {\n",
       "        vertical-align: top;\n",
       "    }\n",
       "\n",
       "    .dataframe thead th {\n",
       "        text-align: right;\n",
       "    }\n",
       "</style>\n",
       "<table border=\"1\" class=\"dataframe\">\n",
       "  <thead>\n",
       "    <tr style=\"text-align: right;\">\n",
       "      <th></th>\n",
       "      <th>min</th>\n",
       "      <th>max</th>\n",
       "      <th>mean</th>\n",
       "    </tr>\n",
       "    <tr>\n",
       "      <th>Sexo</th>\n",
       "      <th></th>\n",
       "      <th></th>\n",
       "      <th></th>\n",
       "    </tr>\n",
       "  </thead>\n",
       "  <tbody>\n",
       "    <tr>\n",
       "      <th>Feminino</th>\n",
       "      <td>10000</td>\n",
       "      <td>130000</td>\n",
       "      <td>60769.230769</td>\n",
       "    </tr>\n",
       "    <tr>\n",
       "      <th>Masculino</th>\n",
       "      <td>10000</td>\n",
       "      <td>170000</td>\n",
       "      <td>58750.000000</td>\n",
       "    </tr>\n",
       "  </tbody>\n",
       "</table>\n",
       "</div>"
      ],
      "text/plain": [
       "             min     max          mean\n",
       "Sexo                                  \n",
       "Feminino   10000  130000  60769.230769\n",
       "Masculino  10000  170000  58750.000000"
      ]
     },
     "execution_count": 83,
     "metadata": {},
     "output_type": "execute_result"
    }
   ],
   "source": [
    "tb_sexo_renda = base.groupby('Sexo')['Renda_Anual'].agg(['min', 'max', 'mean'])\n",
    "tb_sexo_renda"
   ]
  },
  {
   "cell_type": "code",
   "execution_count": 87,
   "metadata": {},
   "outputs": [
    {
     "name": "stdout",
     "output_type": "stream",
     "text": [
      "\n",
      "Analisando a relação Sexo x Renda Anual, pode-se observar:\n",
      "\n",
      "Clientes homens:\n",
      "    - Renda mínima: R$ 10_000.00;\n",
      "    - Renda máxima: R$ 170_000.00;\n",
      "    - Renda média:  R$ 58_750.00.\n",
      "\n",
      "Clientes mulheres:\n",
      "    - Renda mínima: R$ 10_000.00;\n",
      "    - Renda máxima: R$ 130_000.00;\n",
      "    - Renda média:  R$ 60_769.23.\n",
      "\n",
      "\n",
      "Observou-se, ainda, que a renda máxima de clientes mulheres é de R$ 40_000.00 abaixo da renda máxima de clientes homens.\n"
     ]
    }
   ],
   "source": [
    "texto_sexo_renda = f\"\"\"\n",
    "Analisando a relação Sexo x Renda Anual, pode-se observar:\n",
    "\n",
    "Clientes homens:\n",
    "    - Renda mínima: R$ {tb_sexo_renda['min'][1]:_.2f};\n",
    "    - Renda máxima: R$ {tb_sexo_renda['max'][1]:_.2f};\n",
    "    - Renda média:  R$ {tb_sexo_renda['mean'][1]:_.2f}.\n",
    "\n",
    "Clientes mulheres:\n",
    "    - Renda mínima: R$ {tb_sexo_renda['min'][0]:_.2f};\n",
    "    - Renda máxima: R$ {tb_sexo_renda['max'][0]:_.2f};\n",
    "    - Renda média:  R$ {tb_sexo_renda['mean'][0]:_.2f}.\n",
    "\"\"\"\n",
    "\n",
    "texto_dif_media = f\"\\nObservou-se, durante a análise, que a renda média de clientes mulheres encontra-se abaixo da renda média de clientes homens.\"\n",
    "\n",
    "texto_dif_max = f\"\\nObservou-se, ainda, que a renda máxima de clientes mulheres é de R$ {(tb_sexo_renda['max'][1] - tb_sexo_renda['max'][0]):_.2f} abaixo da renda máxima de clientes homens.\"\n",
    "\n",
    "print(texto_sexo_renda)\n",
    "\n",
    "if tb_sexo_renda['mean'][1] > tb_sexo_renda['mean'][0]:\n",
    "    print(texto_dif_media)\n",
    "if tb_sexo_renda['max'][1] > tb_sexo_renda['max'][0]:\n",
    "    print(texto_dif_max)\n"
   ]
  },
  {
   "cell_type": "code",
   "execution_count": 89,
   "metadata": {},
   "outputs": [
    {
     "data": {
      "text/plain": [
       "Text(0.5, 0, '')"
      ]
     },
     "execution_count": 89,
     "metadata": {},
     "output_type": "execute_result"
    },
    {
     "data": {
      "image/png": "[encoded data removed]",
      "text/plain": [
       "<Figure size 1000x400 with 1 Axes>"
      ]
     },
     "metadata": {},
     "output_type": "display_data"
    }
   ],
   "source": [
    "tb_sexo_renda.plot(kind='bar', figsize=(10, 4))\n",
    "plt.title('Relação Sexo x Idade')\n",
    "plt.xlabel('')"
   ]
  },
  {
   "cell_type": "markdown",
   "metadata": {},
   "source": [
    "### Final da Análise da Base de Clientes."
   ]
  },
  {
   "cell_type": "markdown",
   "metadata": {},
   "source": [
    "---"
   ]
  },
  {
   "cell_type": "markdown",
   "metadata": {},
   "source": [
    "### 6. Relatório Final de Análise:\n",
    "\n",
    "\n",
    "Dada a base de clientes abaixo, segue sua análise:"
   ]
  },
  {
   "cell_type": "code",
   "execution_count": 91,
   "metadata": {},
   "outputs": [
    {
     "data": {
      "text/html": [
       "<div>\n",
       "<style scoped>\n",
       "    .dataframe tbody tr th:only-of-type {\n",
       "        vertical-align: middle;\n",
       "    }\n",
       "\n",
       "    .dataframe tbody tr th {\n",
       "        vertical-align: top;\n",
       "    }\n",
       "\n",
       "    .dataframe thead th {\n",
       "        text-align: right;\n",
       "    }\n",
       "</style>\n",
       "<table border=\"1\" class=\"dataframe\">\n",
       "  <thead>\n",
       "    <tr style=\"text-align: right;\">\n",
       "      <th></th>\n",
       "      <th>ID_Cliente</th>\n",
       "      <th>Nome</th>\n",
       "      <th>Sobrenome</th>\n",
       "      <th>Data_Nascimento</th>\n",
       "      <th>Estado_Civil</th>\n",
       "      <th>Sexo</th>\n",
       "      <th>Renda_Anual</th>\n",
       "      <th>Qtd_Filhos</th>\n",
       "      <th>Escolaridade</th>\n",
       "      <th>Idade</th>\n",
       "    </tr>\n",
       "  </thead>\n",
       "  <tbody>\n",
       "    <tr>\n",
       "      <th>0</th>\n",
       "      <td>1</td>\n",
       "      <td>Ruben</td>\n",
       "      <td>Torres</td>\n",
       "      <td>1985-08-07</td>\n",
       "      <td>Casado(a)</td>\n",
       "      <td>Masculino</td>\n",
       "      <td>60000</td>\n",
       "      <td>3</td>\n",
       "      <td>Pós-graduado</td>\n",
       "      <td>39</td>\n",
       "    </tr>\n",
       "    <tr>\n",
       "      <th>1</th>\n",
       "      <td>2</td>\n",
       "      <td>Christy</td>\n",
       "      <td>Zhu</td>\n",
       "      <td>1988-02-10</td>\n",
       "      <td>Solteiro(a)</td>\n",
       "      <td>Feminino</td>\n",
       "      <td>70000</td>\n",
       "      <td>0</td>\n",
       "      <td>Pós-graduado</td>\n",
       "      <td>36</td>\n",
       "    </tr>\n",
       "    <tr>\n",
       "      <th>2</th>\n",
       "      <td>3</td>\n",
       "      <td>Elizabeth</td>\n",
       "      <td>Johnson</td>\n",
       "      <td>1988-08-03</td>\n",
       "      <td>Solteiro(a)</td>\n",
       "      <td>Feminino</td>\n",
       "      <td>80000</td>\n",
       "      <td>5</td>\n",
       "      <td>Pós-graduado</td>\n",
       "      <td>36</td>\n",
       "    </tr>\n",
       "    <tr>\n",
       "      <th>3</th>\n",
       "      <td>4</td>\n",
       "      <td>Julio</td>\n",
       "      <td>Ruiz</td>\n",
       "      <td>1985-07-31</td>\n",
       "      <td>Solteiro(a)</td>\n",
       "      <td>Masculino</td>\n",
       "      <td>70000</td>\n",
       "      <td>0</td>\n",
       "      <td>Pós-graduado</td>\n",
       "      <td>39</td>\n",
       "    </tr>\n",
       "    <tr>\n",
       "      <th>4</th>\n",
       "      <td>5</td>\n",
       "      <td>Janet</td>\n",
       "      <td>Alvarez</td>\n",
       "      <td>1985-12-01</td>\n",
       "      <td>Solteiro(a)</td>\n",
       "      <td>Feminino</td>\n",
       "      <td>70000</td>\n",
       "      <td>0</td>\n",
       "      <td>Pós-graduado</td>\n",
       "      <td>38</td>\n",
       "    </tr>\n",
       "  </tbody>\n",
       "</table>\n",
       "</div>"
      ],
      "text/plain": [
       "   ID_Cliente       Nome Sobrenome Data_Nascimento Estado_Civil       Sexo  \\\n",
       "0           1      Ruben    Torres      1985-08-07    Casado(a)  Masculino   \n",
       "1           2    Christy       Zhu      1988-02-10  Solteiro(a)   Feminino   \n",
       "2           3  Elizabeth   Johnson      1988-08-03  Solteiro(a)   Feminino   \n",
       "3           4      Julio      Ruiz      1985-07-31  Solteiro(a)  Masculino   \n",
       "4           5      Janet   Alvarez      1985-12-01  Solteiro(a)   Feminino   \n",
       "\n",
       "   Renda_Anual  Qtd_Filhos  Escolaridade  Idade  \n",
       "0        60000           3  Pós-graduado     39  \n",
       "1        70000           0  Pós-graduado     36  \n",
       "2        80000           5  Pós-graduado     36  \n",
       "3        70000           0  Pós-graduado     39  \n",
       "4        70000           0  Pós-graduado     38  "
      ]
     },
     "execution_count": 91,
     "metadata": {},
     "output_type": "execute_result"
    }
   ],
   "source": [
    "base.head()"
   ]
  },
  {
   "cell_type": "markdown",
   "metadata": {},
   "source": [
    "##### a) Total de clientes:"
   ]
  },
  {
   "cell_type": "code",
   "execution_count": 61,
   "metadata": {},
   "outputs": [
    {
     "name": "stdout",
     "output_type": "stream",
     "text": [
      "A base de dados analisada possui um total de 100 clientes cadastrados.\n"
     ]
    }
   ],
   "source": [
    "print(texto_total_clientes)"
   ]
  },
  {
   "cell_type": "markdown",
   "metadata": {},
   "source": [
    "##### b) Análise por gênero:"
   ]
  },
  {
   "cell_type": "code",
   "execution_count": 62,
   "metadata": {},
   "outputs": [
    {
     "name": "stdout",
     "output_type": "stream",
     "text": [
      "A base de dados analisada possui 48 clientes do sexo Masculino e 52 do sexo Feminino.\n"
     ]
    },
    {
     "data": {
      "text/plain": [
       "Text(0, 0.5, '')"
      ]
     },
     "execution_count": 62,
     "metadata": {},
     "output_type": "execute_result"
    },
    {
     "data": {
      "image/png": "[encoded data removed]",
      "text/plain": [
       "<Figure size 600x300 with 1 Axes>"
      ]
     },
     "metadata": {},
     "output_type": "display_data"
    }
   ],
   "source": [
    "print(texto_qtd_genero)\n",
    "\n",
    "base_genero = base['Sexo'].value_counts()\n",
    "base_genero.plot(kind='pie', figsize=(6, 3), autopct='%1.1f%%')\n",
    "plt.title('Distribuição por Gênero')\n",
    "plt.ylabel('')"
   ]
  },
  {
   "cell_type": "markdown",
   "metadata": {},
   "source": [
    "##### c) Análise por estado civil:"
   ]
  },
  {
   "cell_type": "code",
   "execution_count": 63,
   "metadata": {},
   "outputs": [
    {
     "name": "stdout",
     "output_type": "stream",
     "text": [
      "A base de dados analisada possui 56 clientes casado(a)s e 44 solteiro(a)s.\n"
     ]
    },
    {
     "data": {
      "text/plain": [
       "Text(0, 0.5, '')"
      ]
     },
     "execution_count": 63,
     "metadata": {},
     "output_type": "execute_result"
    },
    {
     "data": {
      "image/png": "[encoded data removed]",
      "text/plain": [
       "<Figure size 600x300 with 1 Axes>"
      ]
     },
     "metadata": {},
     "output_type": "display_data"
    }
   ],
   "source": [
    "print(texto_qtd_ec)\n",
    "\n",
    "base_ec = base['Estado_Civil'].value_counts()\n",
    "base_ec.plot(kind='pie', figsize=(6, 3), autopct='%1.1f%%')\n",
    "plt.title('Distribuição por Estado Civil')\n",
    "plt.ylabel('')"
   ]
  },
  {
   "cell_type": "markdown",
   "metadata": {},
   "source": [
    "##### d) Relação sexo x estado civil:"
   ]
  },
  {
   "cell_type": "code",
   "execution_count": 64,
   "metadata": {},
   "outputs": [
    {
     "name": "stdout",
     "output_type": "stream",
     "text": [
      "A proporção de homens casados é de 68.8%, enquanto a proporção de mulheres casadas é de 44.2%.\n"
     ]
    },
    {
     "data": {
      "text/plain": [
       "Text(0.5, 0, '')"
      ]
     },
     "execution_count": 64,
     "metadata": {},
     "output_type": "execute_result"
    },
    {
     "data": {
      "image/png": "[encoded data removed]",
      "text/plain": [
       "<Figure size 1000x400 with 1 Axes>"
      ]
     },
     "metadata": {},
     "output_type": "display_data"
    }
   ],
   "source": [
    "print(texto_sexo_ec)\n",
    "\n",
    "tb_sexo_ec.plot(kind='bar', figsize=(10, 4))\n",
    "plt.title('Relação Sexo x Estado Civil')\n",
    "plt.xlabel('')"
   ]
  },
  {
   "cell_type": "markdown",
   "metadata": {},
   "source": [
    "##### e) Análise por escolaridade:"
   ]
  },
  {
   "cell_type": "code",
   "execution_count": 65,
   "metadata": {},
   "outputs": [
    {
     "name": "stdout",
     "output_type": "stream",
     "text": [
      "Do total de clientes, 46 possuem nível de escolaridade Parcial, 27 possuem Nível Médio, 6 possuem Formação Fuperior e 21 Pós-graduação.\n"
     ]
    },
    {
     "data": {
      "text/plain": [
       "Text(0.5, 1.0, 'Distribuição de clientes por Escolaridade')"
      ]
     },
     "execution_count": 65,
     "metadata": {},
     "output_type": "execute_result"
    },
    {
     "data": {
      "image/png": "[encoded data removed]",
      "text/plain": [
       "<Figure size 1000x400 with 1 Axes>"
      ]
     },
     "metadata": {},
     "output_type": "display_data"
    }
   ],
   "source": [
    "print(texto_esc)\n",
    "\n",
    "base_esc = base['Escolaridade'].value_counts()\n",
    "base_esc.plot(kind='barh', figsize=(10, 4))\n",
    "plt.title('Distribuição de clientes por Escolaridade')"
   ]
  },
  {
   "cell_type": "markdown",
   "metadata": {},
   "source": [
    "##### f) Relação sexo x escolaridade:"
   ]
  },
  {
   "cell_type": "code",
   "execution_count": 66,
   "metadata": {},
   "outputs": [
    {
     "name": "stdout",
     "output_type": "stream",
     "text": [
      "\n",
      "Relação Sexo x Escolaridade:\n",
      "\n",
      "Conforme os dados analisados, dentre os clientes homens da base de dados em análise temos:\n",
      "    - 52.1% possuem nível de escolaridade Parcial;\n",
      "    - 22.9% possuem nível de escolaridade Médio;\n",
      "    - 6.2% possuem nível de escolaridade Superior;\n",
      "    - 18.8% possuem nível de escolaridade Pós-Graduação.\n",
      "\n",
      "Já, dentre as clientes mulheres o cenário é:\n",
      "    - 40.4% possuem nível de escolaridade Parcial;\n",
      "    - 30.8% possuem nível de escolaridade Médio;\n",
      "    - 5.8% possuem nível de escolaridade Superior;\n",
      "    - 23.1% possuem nível de escolaridade Pós-Graduação.\n",
      "\n"
     ]
    },
    {
     "data": {
      "text/plain": [
       "Text(0.5, 0, '')"
      ]
     },
     "execution_count": 66,
     "metadata": {},
     "output_type": "execute_result"
    },
    {
     "data": {
      "image/png": "[encoded data removed]",
      "text/plain": [
       "<Figure size 1200x400 with 1 Axes>"
      ]
     },
     "metadata": {},
     "output_type": "display_data"
    }
   ],
   "source": [
    "print(texto_sexo_esc)\n",
    "\n",
    "tb_sexo_esc.plot(kind='bar', figsize=(12, 4))\n",
    "plt.title('Relação Sexo x Escolaridade')\n",
    "plt.xlabel('')"
   ]
  },
  {
   "cell_type": "markdown",
   "metadata": {},
   "source": [
    "##### g) Análise por idade:"
   ]
  },
  {
   "cell_type": "code",
   "execution_count": 67,
   "metadata": {},
   "outputs": [
    {
     "name": "stdout",
     "output_type": "stream",
     "text": [
      "\n",
      "Dentre os dados análisados, o(a) cliente mais jovem possui 24 anos, já o(a) cliente mais velho possui 60 anos.\n",
      "A méida de idade da base de clientes analisada é de 42.74 anos.\n",
      "\n"
     ]
    }
   ],
   "source": [
    "print(texto_idade)"
   ]
  },
  {
   "cell_type": "markdown",
   "metadata": {},
   "source": [
    "##### h) Relação sexo x idade:"
   ]
  },
  {
   "cell_type": "code",
   "execution_count": 68,
   "metadata": {},
   "outputs": [
    {
     "name": "stdout",
     "output_type": "stream",
     "text": [
      "\n",
      "Relação Sexo x Idade:\n",
      "\n",
      "Dentre os clientes homens, a idade mínima é de 25, a idade máxima é de 59. Já a média de idade dentre os homens é de 43.62.\n",
      "Dentre as clientes mulheres, a idade mínima é de 24, a idade máxima é de 60. Já a média de idade dentre as mulheres é de 41.92.\n",
      "\n"
     ]
    },
    {
     "data": {
      "text/plain": [
       "Text(0.5, 0, '')"
      ]
     },
     "execution_count": 68,
     "metadata": {},
     "output_type": "execute_result"
    },
    {
     "data": {
      "image/png": "[encoded data removed]",
      "text/plain": [
       "<Figure size 1200x400 with 1 Axes>"
      ]
     },
     "metadata": {},
     "output_type": "display_data"
    }
   ],
   "source": [
    "print(texto_sexo_idade)\n",
    "\n",
    "tb_sexo_idade.plot(kind='bar', figsize=(12, 4))\n",
    "plt.title('Relação Sexo x Idade')\n",
    "plt.xlabel('')"
   ]
  },
  {
   "cell_type": "markdown",
   "metadata": {},
   "source": [
    "##### i) Análise por quantidade de filhos:"
   ]
  },
  {
   "cell_type": "code",
   "execution_count": 76,
   "metadata": {},
   "outputs": [
    {
     "name": "stdout",
     "output_type": "stream",
     "text": [
      "\n",
      "Em relação a quantidade de filhos, observa-se, na análise, que a média de filhos por cliente é de 1.59.\n",
      "Observa-se, também, que o número máximo de filhos que um(a) cliente tem é de 5, sendo que a quantidade de clientes que tem o número máximo de filhos é de 2 clientes.\n",
      "Foi possível observar, ainda, que a média de filhos por cliente homem é de 1.54, e a média de filhos por cliente mulher é de 1.63.\n",
      "\n"
     ]
    }
   ],
   "source": [
    "print(texto_filhos)"
   ]
  },
  {
   "cell_type": "markdown",
   "metadata": {},
   "source": [
    "##### j) Análise por renda:"
   ]
  },
  {
   "cell_type": "code",
   "execution_count": 82,
   "metadata": {},
   "outputs": [
    {
     "name": "stdout",
     "output_type": "stream",
     "text": [
      "\n",
      "Em relação aos rendimentos, foi identificado que a renda média da base de clientes é de R$ 59_800.00 ao ano.\n",
      "A maior renda que um(a) cliente possui é de R$ 170_000.00, já a menor renda de um(a) cliente é de R$ 10_000.00, também ao ano.\n",
      "\n"
     ]
    }
   ],
   "source": [
    "print(texto_renda)"
   ]
  },
  {
   "cell_type": "markdown",
   "metadata": {},
   "source": [
    "##### k) Relação sexo x renda:"
   ]
  },
  {
   "cell_type": "code",
   "execution_count": 90,
   "metadata": {},
   "outputs": [
    {
     "name": "stdout",
     "output_type": "stream",
     "text": [
      "\n",
      "Analisando a relação Sexo x Renda Anual, pode-se observar:\n",
      "\n",
      "Clientes homens:\n",
      "    - Renda mínima: R$ 10_000.00;\n",
      "    - Renda máxima: R$ 170_000.00;\n",
      "    - Renda média:  R$ 58_750.00.\n",
      "\n",
      "Clientes mulheres:\n",
      "    - Renda mínima: R$ 10_000.00;\n",
      "    - Renda máxima: R$ 130_000.00;\n",
      "    - Renda média:  R$ 60_769.23.\n",
      "\n",
      "\n",
      "Observou-se, ainda, que a renda máxima de clientes mulheres é de R$ 40_000.00 abaixo da renda máxima de clientes homens.\n"
     ]
    },
    {
     "data": {
      "text/plain": [
       "Text(0.5, 0, '')"
      ]
     },
     "execution_count": 90,
     "metadata": {},
     "output_type": "execute_result"
    },
    {
     "data": {
      "image/png": "[encoded data removed]",
      "text/plain": [
       "<Figure size 1000x400 with 1 Axes>"
      ]
     },
     "metadata": {},
     "output_type": "display_data"
    }
   ],
   "source": [
    "print(texto_sexo_renda)\n",
    "\n",
    "if tb_sexo_renda['mean'][1] > tb_sexo_renda['mean'][0]:\n",
    "    print(texto_dif_media)\n",
    "if tb_sexo_renda['max'][1] > tb_sexo_renda['max'][0]:\n",
    "    print(texto_dif_max)\n",
    "\n",
    "tb_sexo_renda.plot(kind='bar', figsize=(10, 4))\n",
    "plt.title('Relação Sexo x Idade')\n",
    "plt.xlabel('')"
   ]
  },
  {
   "cell_type": "markdown",
   "metadata": {},
   "source": [
    "Análise de dados da Base de Clientes realizada por Leonardo Araújo, em 22 de agosto de 2024."
   ]
  },
  {
   "cell_type": "markdown",
   "metadata": {},
   "source": [
    "##### Final do Relatório de Análise da Base de Clientes."
   ]
  },
  {
   "cell_type": "markdown",
   "metadata": {},
   "source": [
    "---"
   ]
  }
 ],
 "metadata": {
  "kernelspec": {
   "display_name": "Python 3",
   "language": "python",
   "name": "python3"
  },
  "language_info": {
   "codemirror_mode": {
    "name": "ipython",
    "version": 3
   },
   "file_extension": ".py",
   "mimetype": "text/x-python",
   "name": "python",
   "nbconvert_exporter": "python",
   "pygments_lexer": "ipython3",
   "version": "3.10.4"
  }
 },
 "nbformat": 4,
 "nbformat_minor": 2
}
